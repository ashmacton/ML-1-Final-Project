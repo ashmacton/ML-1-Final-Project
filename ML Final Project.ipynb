{
 "cells": [
  {
   "cell_type": "markdown",
   "id": "550523c3",
   "metadata": {},
   "source": [
    "# Stroke Prediction Notebook\n"
   ]
  },
  {
   "cell_type": "markdown",
   "id": "c9a97926",
   "metadata": {},
   "source": [
    "### By: Ashish Singh Bisht (1000039457)\n",
    "### Prof. Vincenza Carchiolo\n",
    "### Advance Machine Learning\n",
    "### Data Science for Management"
   ]
  },
  {
   "cell_type": "markdown",
   "id": "bef1df9c",
   "metadata": {},
   "source": [
    "## Table of content\n",
    "\n",
    "1. [Introduction](#Introduction)\n",
    "2. [Data Overview](#Data_Overview)\n",
    "3. [Exploratory Data Analysis](#Exploratory_Data_Analysis)\n",
    "     3.1 [Male/Female who has more strokes.](#EDA1)\n",
    "     3.2 [Male/Female who has more strokes.](#EDA2)\n",
    "     3.3 [Male/Female who has more strokes.](#EDA3)\n",
    "     3.4 [Male/Female who has more strokes.](#EDA4)\n",
    "     3.5 [Male/Female who has more strokes.](#EDA5)\n",
    "     3.6 [Male/Female who has more strokes.](#EDA6)\n",
    "     3.7 [Male/Female who has more strokes.](#EDA7)\n",
    "     3.8 [Male/Female who has more strokes.](#EDA8)\n",
    "     3.9 [Male/Female who has more strokes.](#EDA9)\n",
    "     3.10 [Male/Female who has more strokes.](#EDA10)\n",
    "     3.11 [Correaltion](#EDA11)\n",
    "4. [Data Preprocessing](#Data_Preprocessing)\n",
    "5. [Supervised Learning](#Supervised_Learning)\n",
    "     5.1 [Model Fitting](#Model_Fitting)\n",
    "     5.2 [Train set odeling](#TrainSM)\n",
    "     5.3 [Cross Validation](#CrossVal)\n",
    "     5.5 [ConfMat](#ConfMat)\n",
    "     5.6 [Grid Search](#GridSearch)\n",
    "6. [Unsupervised Learning](#Unsupervised_Learning)\n",
    "     6.1 [Data Preprocessing](#DPU)\n",
    "     6.2 [Principal Component Analysis](#PCA)\n",
    "     6.3 [KMeans Clustering](#KMC)\n",
    "     6.4 [DBScan](#DBS)\n",
    "     6.5 [Hierarchical Clustering](#HRC)\n",
    "7. [Semi-Supervised Learning](#Semi_Supervised_Learning)\n",
    "     7.1 [Label Propagation](#LabelP)     \n",
    "8. [Comparision with other studies](#CWOS)\n"
   ]
  },
  {
   "attachments": {},
   "cell_type": "markdown",
   "id": "83dbc9ab",
   "metadata": {},
   "source": [
    "## 1. Introduction <a name=\"Introduction\"></a>\n",
    "\n",
    "Stroke is a life-threatening medical condition that occurs when blood flow to the brain is interrupted. It is the second leading cause of death and a major cause oof long-term disability worldwide. Early detection and prevention of stroke are crucial to reducing its impact on the individuals and society.\n",
    "\n",
    "The Stroke Prediction Dataset on Kaggle provides a collection of health-related data that can be used to predict the likelihood of an individual experiencing a stroke. The dataset includes demographic, lifestyle, and clinical variables such as age, gender, smoking status, hypertension, heart disease, and glucose levels, among others. The dataset contains data from over 43,000 individuals across 12 countries.\n",
    "\n",
    "\n",
    "We can access the dataset on Kaggle:\n",
    "https://www.kaggle.com/datasets/fedesoriano/stroke-prediction-dataset\n",
    "\n",
    "\n",
    "\n",
    "\n",
    "<h4>Attribute Information </h4>\n",
    "\n",
    "The Stroke Prediction Dataset contains 12 features (or columns) and 5110 instances (or rows). Here's a brief description of each feature:\n",
    "\n",
    "1.\tid:               unique identifier\n",
    "2.\tgender:           \"Male\", \"Female\", or \"Other\"\n",
    "3.\tage:               age of the individual in years\n",
    "4.\thypertension:      1 if yes, 0 otherwise\n",
    "5.\theart_disease:     1 if yes, 0 otherwise\n",
    "6.\tever_married:      \"Yes\" or \"No\"\n",
    "7.\twork_type:         \"Private\", \"Self-employed\", \"Govt_job\", \"Children\", or \"Never_worked\"\n",
    "8.\tResidence_type:    \"Urban\" or \"Rural\"\n",
    "9.\tavg_glucose_level: average glucose level in blood\n",
    "10.\tbmi:               body mass index\n",
    "11.\tsmoking_status:    \"formerly smoked\", \"never smoked\", \"smokes\", or \"Unknown\"\n",
    "12.\tstroke:            1 if the individual had a stroke, 0 otherwise\n",
    "\n",
    "\n",
    "This dataset can be used to explore the relationships between these variables and the likelihood of experiencing a stroke, as well as to develop predictive models to identify high-risk individuals who may benefit from early interventions.\n"
   ]
  },
  {
   "cell_type": "markdown",
   "id": "d591c292",
   "metadata": {},
   "source": [
    "## 2. Data Overview<a name=\"Data_Overview\"></a>"
   ]
  },
  {
   "cell_type": "markdown",
   "id": "b6e1a985",
   "metadata": {},
   "source": [
    "We start by including the basic libraries for the data exploration"
   ]
  },
  {
   "cell_type": "code",
   "execution_count": 1,
   "id": "83b7cc4a",
   "metadata": {},
   "outputs": [],
   "source": [
    "import numpy as np\n",
    "import pandas as pd\n",
    "import matplotlib.pyplot as plt\n",
    "import seaborn as sns \n",
    "from scipy import stats\n",
    "from scipy.stats import norm\n",
    "import warnings\n",
    "warnings.filterwarnings('ignore')"
   ]
  },
  {
   "cell_type": "code",
   "execution_count": 2,
   "id": "8d95d4a6",
   "metadata": {},
   "outputs": [],
   "source": [
    "df= pd.read_csv(\"/Users/ash/Downloads/healthcare-dataset-stroke-data 2.csv\")"
   ]
  },
  {
   "cell_type": "markdown",
   "id": "b77be8e4",
   "metadata": {},
   "source": [
    "After storing the dataset into 'df' I have removed the column 'id' as it serves no purpose in our analysis"
   ]
  },
  {
   "cell_type": "code",
   "execution_count": 3,
   "id": "40dca820",
   "metadata": {},
   "outputs": [],
   "source": [
    "df.drop(columns=['id'],inplace = True,axis = 1)"
   ]
  },
  {
   "cell_type": "markdown",
   "id": "6180595e",
   "metadata": {},
   "source": [
    "Here we can see the initial and the last 5 rows of our dataset. We do this just by stating the variable name of the dataset."
   ]
  },
  {
   "cell_type": "code",
   "execution_count": 4,
   "id": "a62de0c9",
   "metadata": {},
   "outputs": [
    {
     "data": {
      "text/html": [
       "<div>\n",
       "<style scoped>\n",
       "    .dataframe tbody tr th:only-of-type {\n",
       "        vertical-align: middle;\n",
       "    }\n",
       "\n",
       "    .dataframe tbody tr th {\n",
       "        vertical-align: top;\n",
       "    }\n",
       "\n",
       "    .dataframe thead th {\n",
       "        text-align: right;\n",
       "    }\n",
       "</style>\n",
       "<table border=\"1\" class=\"dataframe\">\n",
       "  <thead>\n",
       "    <tr style=\"text-align: right;\">\n",
       "      <th></th>\n",
       "      <th>gender</th>\n",
       "      <th>age</th>\n",
       "      <th>hypertension</th>\n",
       "      <th>heart_disease</th>\n",
       "      <th>ever_married</th>\n",
       "      <th>work_type</th>\n",
       "      <th>Residence_type</th>\n",
       "      <th>avg_glucose_level</th>\n",
       "      <th>bmi</th>\n",
       "      <th>smoking_status</th>\n",
       "      <th>stroke</th>\n",
       "    </tr>\n",
       "  </thead>\n",
       "  <tbody>\n",
       "    <tr>\n",
       "      <th>0</th>\n",
       "      <td>Male</td>\n",
       "      <td>67.0</td>\n",
       "      <td>0</td>\n",
       "      <td>1</td>\n",
       "      <td>Yes</td>\n",
       "      <td>Private</td>\n",
       "      <td>Urban</td>\n",
       "      <td>228.69</td>\n",
       "      <td>36.6</td>\n",
       "      <td>formerly smoked</td>\n",
       "      <td>1</td>\n",
       "    </tr>\n",
       "    <tr>\n",
       "      <th>1</th>\n",
       "      <td>Female</td>\n",
       "      <td>61.0</td>\n",
       "      <td>0</td>\n",
       "      <td>0</td>\n",
       "      <td>Yes</td>\n",
       "      <td>Self-employed</td>\n",
       "      <td>Rural</td>\n",
       "      <td>202.21</td>\n",
       "      <td>NaN</td>\n",
       "      <td>never smoked</td>\n",
       "      <td>1</td>\n",
       "    </tr>\n",
       "    <tr>\n",
       "      <th>2</th>\n",
       "      <td>Male</td>\n",
       "      <td>80.0</td>\n",
       "      <td>0</td>\n",
       "      <td>1</td>\n",
       "      <td>Yes</td>\n",
       "      <td>Private</td>\n",
       "      <td>Rural</td>\n",
       "      <td>105.92</td>\n",
       "      <td>32.5</td>\n",
       "      <td>never smoked</td>\n",
       "      <td>1</td>\n",
       "    </tr>\n",
       "    <tr>\n",
       "      <th>3</th>\n",
       "      <td>Female</td>\n",
       "      <td>49.0</td>\n",
       "      <td>0</td>\n",
       "      <td>0</td>\n",
       "      <td>Yes</td>\n",
       "      <td>Private</td>\n",
       "      <td>Urban</td>\n",
       "      <td>171.23</td>\n",
       "      <td>34.4</td>\n",
       "      <td>smokes</td>\n",
       "      <td>1</td>\n",
       "    </tr>\n",
       "    <tr>\n",
       "      <th>4</th>\n",
       "      <td>Female</td>\n",
       "      <td>79.0</td>\n",
       "      <td>1</td>\n",
       "      <td>0</td>\n",
       "      <td>Yes</td>\n",
       "      <td>Self-employed</td>\n",
       "      <td>Rural</td>\n",
       "      <td>174.12</td>\n",
       "      <td>24.0</td>\n",
       "      <td>never smoked</td>\n",
       "      <td>1</td>\n",
       "    </tr>\n",
       "    <tr>\n",
       "      <th>...</th>\n",
       "      <td>...</td>\n",
       "      <td>...</td>\n",
       "      <td>...</td>\n",
       "      <td>...</td>\n",
       "      <td>...</td>\n",
       "      <td>...</td>\n",
       "      <td>...</td>\n",
       "      <td>...</td>\n",
       "      <td>...</td>\n",
       "      <td>...</td>\n",
       "      <td>...</td>\n",
       "    </tr>\n",
       "    <tr>\n",
       "      <th>5105</th>\n",
       "      <td>Female</td>\n",
       "      <td>80.0</td>\n",
       "      <td>1</td>\n",
       "      <td>0</td>\n",
       "      <td>Yes</td>\n",
       "      <td>Private</td>\n",
       "      <td>Urban</td>\n",
       "      <td>83.75</td>\n",
       "      <td>NaN</td>\n",
       "      <td>never smoked</td>\n",
       "      <td>0</td>\n",
       "    </tr>\n",
       "    <tr>\n",
       "      <th>5106</th>\n",
       "      <td>Female</td>\n",
       "      <td>81.0</td>\n",
       "      <td>0</td>\n",
       "      <td>0</td>\n",
       "      <td>Yes</td>\n",
       "      <td>Self-employed</td>\n",
       "      <td>Urban</td>\n",
       "      <td>125.20</td>\n",
       "      <td>40.0</td>\n",
       "      <td>never smoked</td>\n",
       "      <td>0</td>\n",
       "    </tr>\n",
       "    <tr>\n",
       "      <th>5107</th>\n",
       "      <td>Female</td>\n",
       "      <td>35.0</td>\n",
       "      <td>0</td>\n",
       "      <td>0</td>\n",
       "      <td>Yes</td>\n",
       "      <td>Self-employed</td>\n",
       "      <td>Rural</td>\n",
       "      <td>82.99</td>\n",
       "      <td>30.6</td>\n",
       "      <td>never smoked</td>\n",
       "      <td>0</td>\n",
       "    </tr>\n",
       "    <tr>\n",
       "      <th>5108</th>\n",
       "      <td>Male</td>\n",
       "      <td>51.0</td>\n",
       "      <td>0</td>\n",
       "      <td>0</td>\n",
       "      <td>Yes</td>\n",
       "      <td>Private</td>\n",
       "      <td>Rural</td>\n",
       "      <td>166.29</td>\n",
       "      <td>25.6</td>\n",
       "      <td>formerly smoked</td>\n",
       "      <td>0</td>\n",
       "    </tr>\n",
       "    <tr>\n",
       "      <th>5109</th>\n",
       "      <td>Female</td>\n",
       "      <td>44.0</td>\n",
       "      <td>0</td>\n",
       "      <td>0</td>\n",
       "      <td>Yes</td>\n",
       "      <td>Govt_job</td>\n",
       "      <td>Urban</td>\n",
       "      <td>85.28</td>\n",
       "      <td>26.2</td>\n",
       "      <td>Unknown</td>\n",
       "      <td>0</td>\n",
       "    </tr>\n",
       "  </tbody>\n",
       "</table>\n",
       "<p>5110 rows × 11 columns</p>\n",
       "</div>"
      ],
      "text/plain": [
       "      gender   age  hypertension  heart_disease ever_married      work_type  \\\n",
       "0       Male  67.0             0              1          Yes        Private   \n",
       "1     Female  61.0             0              0          Yes  Self-employed   \n",
       "2       Male  80.0             0              1          Yes        Private   \n",
       "3     Female  49.0             0              0          Yes        Private   \n",
       "4     Female  79.0             1              0          Yes  Self-employed   \n",
       "...      ...   ...           ...            ...          ...            ...   \n",
       "5105  Female  80.0             1              0          Yes        Private   \n",
       "5106  Female  81.0             0              0          Yes  Self-employed   \n",
       "5107  Female  35.0             0              0          Yes  Self-employed   \n",
       "5108    Male  51.0             0              0          Yes        Private   \n",
       "5109  Female  44.0             0              0          Yes       Govt_job   \n",
       "\n",
       "     Residence_type  avg_glucose_level   bmi   smoking_status  stroke  \n",
       "0             Urban             228.69  36.6  formerly smoked       1  \n",
       "1             Rural             202.21   NaN     never smoked       1  \n",
       "2             Rural             105.92  32.5     never smoked       1  \n",
       "3             Urban             171.23  34.4           smokes       1  \n",
       "4             Rural             174.12  24.0     never smoked       1  \n",
       "...             ...                ...   ...              ...     ...  \n",
       "5105          Urban              83.75   NaN     never smoked       0  \n",
       "5106          Urban             125.20  40.0     never smoked       0  \n",
       "5107          Rural              82.99  30.6     never smoked       0  \n",
       "5108          Rural             166.29  25.6  formerly smoked       0  \n",
       "5109          Urban              85.28  26.2          Unknown       0  \n",
       "\n",
       "[5110 rows x 11 columns]"
      ]
     },
     "execution_count": 4,
     "metadata": {},
     "output_type": "execute_result"
    }
   ],
   "source": [
    "df"
   ]
  },
  {
   "cell_type": "markdown",
   "id": "e36af247",
   "metadata": {},
   "source": [
    "<h3> -> Questions to ask</h3>\n",
    "<h5> 1) Male/Female who has more strokes.</h5>\n",
    "<h5> 2) People of which age group are more likely to get a stroke.</h5>\n",
    "<h5> 3) Is hypertension a cause?</h5>\n",
    "<h5> 4) A person with heart disease is more likely to get a stroke (need confirmation).</h5>\n",
    "<h5> 5) Marriage may be a cause of strokes.</h5>\n",
    "<h5> 6) People working in private jobs may be the majority of people with strokes(mostly cause of stress).</h5>\n",
    "<h5> 7) Evaluating the neumerical variables with the target variable</h5>\n",
    "<h5> 8) People living in urban areas have more chances of getting stroke?</h5>\n",
    "<h5> 9) BMI must be closely observed with age and gender.</h5>\n",
    "<h5>10) People who smoke are more likely to get a stroke (need confirmation).</h5>"
   ]
  },
  {
   "cell_type": "code",
   "execution_count": 5,
   "id": "f155b5bb",
   "metadata": {},
   "outputs": [
    {
     "data": {
      "text/html": [
       "<div>\n",
       "<style scoped>\n",
       "    .dataframe tbody tr th:only-of-type {\n",
       "        vertical-align: middle;\n",
       "    }\n",
       "\n",
       "    .dataframe tbody tr th {\n",
       "        vertical-align: top;\n",
       "    }\n",
       "\n",
       "    .dataframe thead th {\n",
       "        text-align: right;\n",
       "    }\n",
       "</style>\n",
       "<table border=\"1\" class=\"dataframe\">\n",
       "  <thead>\n",
       "    <tr style=\"text-align: right;\">\n",
       "      <th></th>\n",
       "      <th>gender</th>\n",
       "      <th>age</th>\n",
       "      <th>hypertension</th>\n",
       "      <th>heart_disease</th>\n",
       "      <th>ever_married</th>\n",
       "      <th>work_type</th>\n",
       "      <th>Residence_type</th>\n",
       "      <th>avg_glucose_level</th>\n",
       "      <th>bmi</th>\n",
       "      <th>smoking_status</th>\n",
       "      <th>stroke</th>\n",
       "    </tr>\n",
       "  </thead>\n",
       "  <tbody>\n",
       "    <tr>\n",
       "      <th>0</th>\n",
       "      <td>Male</td>\n",
       "      <td>67.0</td>\n",
       "      <td>0</td>\n",
       "      <td>1</td>\n",
       "      <td>Yes</td>\n",
       "      <td>Private</td>\n",
       "      <td>Urban</td>\n",
       "      <td>228.69</td>\n",
       "      <td>36.6</td>\n",
       "      <td>formerly smoked</td>\n",
       "      <td>1</td>\n",
       "    </tr>\n",
       "    <tr>\n",
       "      <th>1</th>\n",
       "      <td>Female</td>\n",
       "      <td>61.0</td>\n",
       "      <td>0</td>\n",
       "      <td>0</td>\n",
       "      <td>Yes</td>\n",
       "      <td>Self-employed</td>\n",
       "      <td>Rural</td>\n",
       "      <td>202.21</td>\n",
       "      <td>NaN</td>\n",
       "      <td>never smoked</td>\n",
       "      <td>1</td>\n",
       "    </tr>\n",
       "    <tr>\n",
       "      <th>2</th>\n",
       "      <td>Male</td>\n",
       "      <td>80.0</td>\n",
       "      <td>0</td>\n",
       "      <td>1</td>\n",
       "      <td>Yes</td>\n",
       "      <td>Private</td>\n",
       "      <td>Rural</td>\n",
       "      <td>105.92</td>\n",
       "      <td>32.5</td>\n",
       "      <td>never smoked</td>\n",
       "      <td>1</td>\n",
       "    </tr>\n",
       "    <tr>\n",
       "      <th>3</th>\n",
       "      <td>Female</td>\n",
       "      <td>49.0</td>\n",
       "      <td>0</td>\n",
       "      <td>0</td>\n",
       "      <td>Yes</td>\n",
       "      <td>Private</td>\n",
       "      <td>Urban</td>\n",
       "      <td>171.23</td>\n",
       "      <td>34.4</td>\n",
       "      <td>smokes</td>\n",
       "      <td>1</td>\n",
       "    </tr>\n",
       "    <tr>\n",
       "      <th>4</th>\n",
       "      <td>Female</td>\n",
       "      <td>79.0</td>\n",
       "      <td>1</td>\n",
       "      <td>0</td>\n",
       "      <td>Yes</td>\n",
       "      <td>Self-employed</td>\n",
       "      <td>Rural</td>\n",
       "      <td>174.12</td>\n",
       "      <td>24.0</td>\n",
       "      <td>never smoked</td>\n",
       "      <td>1</td>\n",
       "    </tr>\n",
       "  </tbody>\n",
       "</table>\n",
       "</div>"
      ],
      "text/plain": [
       "   gender   age  hypertension  heart_disease ever_married      work_type  \\\n",
       "0    Male  67.0             0              1          Yes        Private   \n",
       "1  Female  61.0             0              0          Yes  Self-employed   \n",
       "2    Male  80.0             0              1          Yes        Private   \n",
       "3  Female  49.0             0              0          Yes        Private   \n",
       "4  Female  79.0             1              0          Yes  Self-employed   \n",
       "\n",
       "  Residence_type  avg_glucose_level   bmi   smoking_status  stroke  \n",
       "0          Urban             228.69  36.6  formerly smoked       1  \n",
       "1          Rural             202.21   NaN     never smoked       1  \n",
       "2          Rural             105.92  32.5     never smoked       1  \n",
       "3          Urban             171.23  34.4           smokes       1  \n",
       "4          Rural             174.12  24.0     never smoked       1  "
      ]
     },
     "execution_count": 5,
     "metadata": {},
     "output_type": "execute_result"
    }
   ],
   "source": [
    "df.head()"
   ]
  },
  {
   "cell_type": "code",
   "execution_count": 6,
   "id": "b5093755",
   "metadata": {},
   "outputs": [
    {
     "name": "stdout",
     "output_type": "stream",
     "text": [
      "(5110, 11)\n"
     ]
    }
   ],
   "source": [
    "print(df.shape)"
   ]
  },
  {
   "cell_type": "code",
   "execution_count": 7,
   "id": "c304f7f7",
   "metadata": {
    "scrolled": true
   },
   "outputs": [
    {
     "name": "stdout",
     "output_type": "stream",
     "text": [
      "gender                 0\n",
      "age                    0\n",
      "hypertension           0\n",
      "heart_disease          0\n",
      "ever_married           0\n",
      "work_type              0\n",
      "Residence_type         0\n",
      "avg_glucose_level      0\n",
      "bmi                  201\n",
      "smoking_status         0\n",
      "stroke                 0\n",
      "dtype: int64\n"
     ]
    }
   ],
   "source": [
    "print(df.isnull().sum())"
   ]
  },
  {
   "cell_type": "code",
   "execution_count": 8,
   "id": "6c21fd62",
   "metadata": {},
   "outputs": [
    {
     "data": {
      "text/html": [
       "<div>\n",
       "<style scoped>\n",
       "    .dataframe tbody tr th:only-of-type {\n",
       "        vertical-align: middle;\n",
       "    }\n",
       "\n",
       "    .dataframe tbody tr th {\n",
       "        vertical-align: top;\n",
       "    }\n",
       "\n",
       "    .dataframe thead th {\n",
       "        text-align: right;\n",
       "    }\n",
       "</style>\n",
       "<table border=\"1\" class=\"dataframe\">\n",
       "  <thead>\n",
       "    <tr style=\"text-align: right;\">\n",
       "      <th></th>\n",
       "      <th>age</th>\n",
       "      <th>hypertension</th>\n",
       "      <th>heart_disease</th>\n",
       "      <th>avg_glucose_level</th>\n",
       "      <th>bmi</th>\n",
       "      <th>stroke</th>\n",
       "    </tr>\n",
       "  </thead>\n",
       "  <tbody>\n",
       "    <tr>\n",
       "      <th>count</th>\n",
       "      <td>5110.000000</td>\n",
       "      <td>5110.000000</td>\n",
       "      <td>5110.000000</td>\n",
       "      <td>5110.000000</td>\n",
       "      <td>4909.000000</td>\n",
       "      <td>5110.000000</td>\n",
       "    </tr>\n",
       "    <tr>\n",
       "      <th>mean</th>\n",
       "      <td>43.226614</td>\n",
       "      <td>0.097456</td>\n",
       "      <td>0.054012</td>\n",
       "      <td>106.147677</td>\n",
       "      <td>28.893237</td>\n",
       "      <td>0.048728</td>\n",
       "    </tr>\n",
       "    <tr>\n",
       "      <th>std</th>\n",
       "      <td>22.612647</td>\n",
       "      <td>0.296607</td>\n",
       "      <td>0.226063</td>\n",
       "      <td>45.283560</td>\n",
       "      <td>7.854067</td>\n",
       "      <td>0.215320</td>\n",
       "    </tr>\n",
       "    <tr>\n",
       "      <th>min</th>\n",
       "      <td>0.080000</td>\n",
       "      <td>0.000000</td>\n",
       "      <td>0.000000</td>\n",
       "      <td>55.120000</td>\n",
       "      <td>10.300000</td>\n",
       "      <td>0.000000</td>\n",
       "    </tr>\n",
       "    <tr>\n",
       "      <th>25%</th>\n",
       "      <td>25.000000</td>\n",
       "      <td>0.000000</td>\n",
       "      <td>0.000000</td>\n",
       "      <td>77.245000</td>\n",
       "      <td>23.500000</td>\n",
       "      <td>0.000000</td>\n",
       "    </tr>\n",
       "    <tr>\n",
       "      <th>50%</th>\n",
       "      <td>45.000000</td>\n",
       "      <td>0.000000</td>\n",
       "      <td>0.000000</td>\n",
       "      <td>91.885000</td>\n",
       "      <td>28.100000</td>\n",
       "      <td>0.000000</td>\n",
       "    </tr>\n",
       "    <tr>\n",
       "      <th>75%</th>\n",
       "      <td>61.000000</td>\n",
       "      <td>0.000000</td>\n",
       "      <td>0.000000</td>\n",
       "      <td>114.090000</td>\n",
       "      <td>33.100000</td>\n",
       "      <td>0.000000</td>\n",
       "    </tr>\n",
       "    <tr>\n",
       "      <th>max</th>\n",
       "      <td>82.000000</td>\n",
       "      <td>1.000000</td>\n",
       "      <td>1.000000</td>\n",
       "      <td>271.740000</td>\n",
       "      <td>97.600000</td>\n",
       "      <td>1.000000</td>\n",
       "    </tr>\n",
       "  </tbody>\n",
       "</table>\n",
       "</div>"
      ],
      "text/plain": [
       "               age  hypertension  heart_disease  avg_glucose_level  \\\n",
       "count  5110.000000   5110.000000    5110.000000        5110.000000   \n",
       "mean     43.226614      0.097456       0.054012         106.147677   \n",
       "std      22.612647      0.296607       0.226063          45.283560   \n",
       "min       0.080000      0.000000       0.000000          55.120000   \n",
       "25%      25.000000      0.000000       0.000000          77.245000   \n",
       "50%      45.000000      0.000000       0.000000          91.885000   \n",
       "75%      61.000000      0.000000       0.000000         114.090000   \n",
       "max      82.000000      1.000000       1.000000         271.740000   \n",
       "\n",
       "               bmi       stroke  \n",
       "count  4909.000000  5110.000000  \n",
       "mean     28.893237     0.048728  \n",
       "std       7.854067     0.215320  \n",
       "min      10.300000     0.000000  \n",
       "25%      23.500000     0.000000  \n",
       "50%      28.100000     0.000000  \n",
       "75%      33.100000     0.000000  \n",
       "max      97.600000     1.000000  "
      ]
     },
     "execution_count": 8,
     "metadata": {},
     "output_type": "execute_result"
    }
   ],
   "source": [
    "df.describe()"
   ]
  },
  {
   "cell_type": "markdown",
   "id": "a42cf975",
   "metadata": {},
   "source": [
    "Observations :\n",
    "<p>1.BMI contains missing values.</p>\n",
    "<p>2.The average age is 43.</p>\n",
    "<p>3.The average bmi is 28 (will change after imputation).</p>\n",
    "<p>4.The minimum age is questionable.</p>\n",
    "<p>5.Average glucose level is 106 (can be useful later).</p>"
   ]
  },
  {
   "cell_type": "markdown",
   "id": "a32ee312",
   "metadata": {},
   "source": [
    "# 3. Exploratory Data Analysis  <a name=\"Exploratory_Data_Analysis\"></a>"
   ]
  },
  {
   "cell_type": "markdown",
   "id": "499c1867",
   "metadata": {},
   "source": [
    "In this part I have Done EDA for our data"
   ]
  },
  {
   "cell_type": "code",
   "execution_count": 9,
   "id": "002b4eea",
   "metadata": {},
   "outputs": [],
   "source": [
    "df=df.fillna(np.mean(df['bmi']))"
   ]
  },
  {
   "cell_type": "markdown",
   "id": "0ea51b24",
   "metadata": {},
   "source": [
    "We handled missing values and filled the missing values with the mean."
   ]
  },
  {
   "cell_type": "code",
   "execution_count": 10,
   "id": "bafef487",
   "metadata": {},
   "outputs": [
    {
     "name": "stdout",
     "output_type": "stream",
     "text": [
      "gender               0\n",
      "age                  0\n",
      "hypertension         0\n",
      "heart_disease        0\n",
      "ever_married         0\n",
      "work_type            0\n",
      "Residence_type       0\n",
      "avg_glucose_level    0\n",
      "bmi                  0\n",
      "smoking_status       0\n",
      "stroke               0\n",
      "dtype: int64\n"
     ]
    }
   ],
   "source": [
    "print(df.isnull().sum())"
   ]
  },
  {
   "cell_type": "code",
   "execution_count": 11,
   "id": "47b25451",
   "metadata": {},
   "outputs": [
    {
     "name": "stdout",
     "output_type": "stream",
     "text": [
      "(5110, 11)\n"
     ]
    }
   ],
   "source": [
    "print(df.shape)"
   ]
  },
  {
   "cell_type": "code",
   "execution_count": 12,
   "id": "cc79affc",
   "metadata": {},
   "outputs": [
    {
     "name": "stdout",
     "output_type": "stream",
     "text": [
      "gender                object\n",
      "age                  float64\n",
      "hypertension           int64\n",
      "heart_disease          int64\n",
      "ever_married          object\n",
      "work_type             object\n",
      "Residence_type        object\n",
      "avg_glucose_level    float64\n",
      "bmi                  float64\n",
      "smoking_status        object\n",
      "stroke                 int64\n",
      "dtype: object\n"
     ]
    }
   ],
   "source": [
    "print(df.dtypes)"
   ]
  },
  {
   "cell_type": "code",
   "execution_count": 13,
   "id": "8c085042",
   "metadata": {},
   "outputs": [
    {
     "data": {
      "text/plain": [
       "<AxesSubplot:xlabel='stroke', ylabel='count'>"
      ]
     },
     "execution_count": 13,
     "metadata": {},
     "output_type": "execute_result"
    },
    {
     "data": {
      "image/png": "[encoded data removed]",
      "text/plain": [
       "<Figure size 432x288 with 1 Axes>"
      ]
     },
     "metadata": {
      "needs_background": "light"
     },
     "output_type": "display_data"
    }
   ],
   "source": [
    "colors = [\"#AEC6CF\",\"#6B8E23\", \"#B39EB5\", \"#C44E52\"]\n",
    "sns.countplot(data=df,x='stroke', palette=colors)"
   ]
  },
  {
   "cell_type": "markdown",
   "id": "76e0385c",
   "metadata": {},
   "source": [
    "### 1) Male/Female who has more strokes. <a name=\"EDA1\"></a>"
   ]
  },
  {
   "cell_type": "code",
   "execution_count": 14,
   "id": "114d486c",
   "metadata": {},
   "outputs": [
    {
     "data": {
      "text/plain": [
       "Text(0.5, 1.0, 'The division of data by Geder')"
      ]
     },
     "execution_count": 14,
     "metadata": {},
     "output_type": "execute_result"
    },
    {
     "data": {
      "image/png": "[encoded data removed]",
      "text/plain": [
       "<Figure size 432x288 with 1 Axes>"
      ]
     },
     "metadata": {
      "needs_background": "light"
     },
     "output_type": "display_data"
    }
   ],
   "source": [
    "sns.countplot(x=\"gender\", data=df, palette=colors)\n",
    "plt.title (\"The division of data by Geder\",weight='bold', size=15)"
   ]
  },
  {
   "cell_type": "code",
   "execution_count": 15,
   "id": "49166df5",
   "metadata": {},
   "outputs": [
    {
     "data": {
      "text/plain": [
       "Female    2994\n",
       "Male      2115\n",
       "Other        1\n",
       "Name: gender, dtype: int64"
      ]
     },
     "execution_count": 15,
     "metadata": {},
     "output_type": "execute_result"
    }
   ],
   "source": [
    "df['gender'].value_counts()"
   ]
  },
  {
   "cell_type": "code",
   "execution_count": 16,
   "id": "8f99055d",
   "metadata": {},
   "outputs": [],
   "source": [
    "df['gender'] = df['gender'].apply(lambda x : 1 if x == 'Male' else 0) "
   ]
  },
  {
   "cell_type": "code",
   "execution_count": 17,
   "id": "5029b0f0",
   "metadata": {},
   "outputs": [
    {
     "data": {
      "text/plain": [
       "0    2995\n",
       "1    2115\n",
       "Name: gender, dtype: int64"
      ]
     },
     "execution_count": 17,
     "metadata": {},
     "output_type": "execute_result"
    },
    {
     "data": {
      "image/png": "[encoded data removed]",
      "text/plain": [
       "<Figure size 432x288 with 1 Axes>"
      ]
     },
     "metadata": {
      "needs_background": "light"
     },
     "output_type": "display_data"
    }
   ],
   "source": [
    "sns.countplot(x=\"gender\", data=df, palette=colors)\n",
    "plt.title (\"The division of data by Gender\",weight='bold', size=15)\n",
    "df['gender'].value_counts()"
   ]
  },
  {
   "cell_type": "markdown",
   "id": "6c5b2f43",
   "metadata": {},
   "source": [
    "### 2) People of which age group are more likely to get a stroke. <a name=\"EDA2\"></a>"
   ]
  },
  {
   "cell_type": "code",
   "execution_count": 18,
   "id": "27bcdfbc",
   "metadata": {},
   "outputs": [
    {
     "name": "stdout",
     "output_type": "stream",
     "text": [
      "78.0    21\n",
      "80.0    17\n",
      "79.0    17\n",
      "81.0    14\n",
      "57.0    11\n",
      "76.0    10\n",
      "63.0     9\n",
      "74.0     9\n",
      "68.0     9\n",
      "82.0     9\n",
      "Name: age, dtype: int64\n"
     ]
    }
   ],
   "source": [
    "# Group the data by age and count the number of strokes in each age group\n",
    "age_counts = df.loc[df['stroke'] == 1, 'age'].value_counts()\n",
    "\n",
    "# Print the 10 age groups with the highest stroke counts\n",
    "print(age_counts.head(10))"
   ]
  },
  {
   "cell_type": "code",
   "execution_count": 19,
   "id": "e8191c8e",
   "metadata": {},
   "outputs": [
    {
     "data": {
      "image/png": "[encoded data removed]",
      "text/plain": [
       "<Figure size 720x360 with 1 Axes>"
      ]
     },
     "metadata": {
      "needs_background": "light"
     },
     "output_type": "display_data"
    }
   ],
   "source": [
    "# Plot a bar chart of the age counts\n",
    "fig, ax = plt.subplots(figsize=(10, 5))\n",
    "ax.bar(age_counts.index, age_counts.values)\n",
    "\n",
    "# Set the chart title and axis labels\n",
    "ax.set_title('Age Distribution of Strokes')\n",
    "ax.set_xlabel('Age')\n",
    "ax.set_ylabel('Stroke Count')\n",
    "\n",
    "# Set the x-axis to start from 0 and end at the maximum age plus 10 years\n",
    "ax.set_xlim([0, max(age_counts.index) + 10])\n",
    "\n",
    "# Show the plot\n",
    "plt.show()\n"
   ]
  },
  {
   "cell_type": "markdown",
   "id": "2799062c",
   "metadata": {},
   "source": [
    "### 3) Is hypertension a cause?<a name=\"EDA3\"></a>"
   ]
  },
  {
   "cell_type": "code",
   "execution_count": 20,
   "id": "a7a42580",
   "metadata": {},
   "outputs": [
    {
     "data": {
      "text/plain": [
       "Text(-0.7, 220, 'Hypertension and Stroke')"
      ]
     },
     "execution_count": 20,
     "metadata": {},
     "output_type": "execute_result"
    },
    {
     "data": {
      "image/png": "[encoded data removed]",
      "text/plain": [
       "<Figure size 720x360 with 1 Axes>"
      ]
     },
     "metadata": {
      "needs_background": "light"
     },
     "output_type": "display_data"
    }
   ],
   "source": [
    "#creating a pivot table with stroke count by hypertension\n",
    "pd_stroke = pd.pivot_table(data=df[df['stroke']==1], index=df['hypertension'], values='stroke', aggfunc='count').reset_index()\n",
    "fig, ax = plt.subplots(figsize=(10, 5))\n",
    "sns.barplot(ax=ax, x=pd_stroke['hypertension'], y=pd_stroke['stroke'], palette='OrRd')\n",
    "#add text labels for each bar\n",
    "for idx, val in enumerate(pd_stroke['stroke']):\n",
    "    ax.text(idx, val+1, round(val, 1), horizontalalignment='center')\n",
    "plt.text(-0.7, 220, 'Hypertension and Stroke', fontsize=18, fontweight='bold', fontfamily='serif')\n",
    "\n"
   ]
  },
  {
   "cell_type": "markdown",
   "id": "74af2dee",
   "metadata": {},
   "source": [
    "### 4) A person with heart disease is more likely to get a stroke.<a name=\"EDA5\"></a>"
   ]
  },
  {
   "cell_type": "code",
   "execution_count": 21,
   "id": "815c5bbb",
   "metadata": {},
   "outputs": [
    {
     "data": {
      "text/plain": [
       "Text(-0.7, 220, 'Heart Disease and Stroke')"
      ]
     },
     "execution_count": 21,
     "metadata": {},
     "output_type": "execute_result"
    },
    {
     "data": {
      "image/png": "[encoded data removed]",
      "text/plain": [
       "<Figure size 720x360 with 1 Axes>"
      ]
     },
     "metadata": {
      "needs_background": "light"
     },
     "output_type": "display_data"
    }
   ],
   "source": [
    "# create a pivot table with stroke count by heart disease\n",
    "pd_stroke = pd.pivot_table(data=df[df['stroke']==1], index=df['heart_disease'], values='stroke', aggfunc='count').reset_index()\n",
    "\n",
    "fig, ax = plt.subplots(figsize=(10, 5))\n",
    "sns.barplot(ax=ax, x=pd_stroke['heart_disease'], y=pd_stroke['stroke'], palette='OrRd')\n",
    "\n",
    "# add text labels for each bar\n",
    "for idx, val in enumerate(pd_stroke['stroke']):\n",
    "    ax.text(idx, val+1, round(val, 1), horizontalalignment='center')\n",
    "\n",
    "\n",
    "# add plot title\n",
    "plt.text(-0.7, 220, 'Heart Disease and Stroke', fontsize=18, fontweight='bold', fontfamily='serif')\n",
    "\n"
   ]
  },
  {
   "cell_type": "markdown",
   "id": "44688291",
   "metadata": {},
   "source": [
    "### 5) Marriage may be a cause of strokes<a name=\"EDA6\"></a>"
   ]
  },
  {
   "cell_type": "code",
   "execution_count": 22,
   "id": "df86468c",
   "metadata": {},
   "outputs": [
    {
     "data": {
      "text/plain": [
       "<AxesSubplot:xlabel='ever_married', ylabel='count'>"
      ]
     },
     "execution_count": 22,
     "metadata": {},
     "output_type": "execute_result"
    },
    {
     "data": {
      "image/png": "[encoded data removed]",
      "text/plain": [
       "<Figure size 432x288 with 1 Axes>"
      ]
     },
     "metadata": {
      "needs_background": "light"
     },
     "output_type": "display_data"
    }
   ],
   "source": [
    "# Group the data by stroke and marriage columns, and count the number of occurrences in each group\n",
    "pd_stroke_marriage = df.groupby(['stroke', 'ever_married'])['stroke'].count().reset_index(name='count')\n",
    "\n",
    "# Plot a grouped bar plot\n",
    "sns.barplot(x='ever_married', y='count', hue='stroke', data=pd_stroke_marriage , palette = colors)\n"
   ]
  },
  {
   "cell_type": "markdown",
   "id": "d3673630",
   "metadata": {},
   "source": [
    "### 6) People working in private jobs may be the majority of people with strokes(mostly cause of stress)."
   ]
  },
  {
   "cell_type": "code",
   "execution_count": 23,
   "id": "2aae5a0b",
   "metadata": {},
   "outputs": [
    {
     "data": {
      "image/png": "[encoded data removed]",
      "text/plain": [
       "<Figure size 720x360 with 1 Axes>"
      ]
     },
     "metadata": {
      "needs_background": "light"
     },
     "output_type": "display_data"
    }
   ],
   "source": [
    "# Create a pivot table for stroke count by work type\n",
    "pd_stroke = df[df['stroke'] == 1].pivot_table(index='work_type', values='stroke', aggfunc='count').reset_index()\n",
    "\n",
    "# Create a bar chart\n",
    "fig, ax = plt.subplots(figsize=(10, 5))\n",
    "sns.barplot(x='work_type', y='stroke', data=pd_stroke, palette=colors, ax=ax)\n",
    "\n",
    "# Add labels and formatting\n",
    "ax.set_xlabel('Work Type', fontsize=12)\n",
    "ax.set_ylabel('Stroke Count', fontsize=12)\n",
    "ax.set_title('Work Type and Stroke', fontsize=16, fontweight='bold')\n",
    "ax.grid(axis='y', linestyle=':', alpha=0.5)\n",
    "sns.despine()\n",
    "\n",
    "# Add data labels to the bars\n",
    "for idx, val in enumerate(pd_stroke['stroke']):\n",
    "    ax.text(idx, val+1, round(val, 1), ha='center', fontsize=10)\n"
   ]
  },
  {
   "cell_type": "markdown",
   "id": "9ccd2191",
   "metadata": {},
   "source": [
    "### 7) Evaluating the neumerical variables with the target variable<a name=\"EDA7\"></a>"
   ]
  },
  {
   "cell_type": "code",
   "execution_count": 24,
   "id": "92b6f14a",
   "metadata": {},
   "outputs": [],
   "source": [
    "# Classifying data into numerical and categorical variables.\n",
    "df_numerical=df[['age','avg_glucose_level','bmi']]\n",
    "df_categorical=df[['gender', 'hypertension', 'heart_disease', 'ever_married','work_type', 'Residence_type', \n",
    "                       'smoking_status', 'stroke']]"
   ]
  },
  {
   "cell_type": "code",
   "execution_count": 25,
   "id": "89d5ee93",
   "metadata": {},
   "outputs": [
    {
     "data": {
      "text/plain": [
       "Text(0.5, 1.0, 'Kde Plots for age, avg_glucose_level and bmi')"
      ]
     },
     "execution_count": 25,
     "metadata": {},
     "output_type": "execute_result"
    },
    {
     "data": {
      "image/png": "[encoded data removed]",
      "text/plain": [
       "<Figure size 864x432 with 1 Axes>"
      ]
     },
     "metadata": {},
     "output_type": "display_data"
    }
   ],
   "source": [
    "fig, ax = plt.subplots(figsize = (12,6))\n",
    "fig.patch.set_facecolor('#f6f5f7') ## colour outside the graph \n",
    "ax.set_facecolor('#f6f5f5') ##colour inside the graph\n",
    "sns.kdeplot(data=df_numerical,shade=True,palette='rocket') # Distributions\n",
    "\n",
    "plt.title('Kde Plots for age, avg_glucose_level and bmi',weight='bold')"
   ]
  },
  {
   "cell_type": "code",
   "execution_count": 26,
   "id": "8a725e0b",
   "metadata": {},
   "outputs": [
    {
     "data": {
      "text/html": [
       "<div>\n",
       "<style scoped>\n",
       "    .dataframe tbody tr th:only-of-type {\n",
       "        vertical-align: middle;\n",
       "    }\n",
       "\n",
       "    .dataframe tbody tr th {\n",
       "        vertical-align: top;\n",
       "    }\n",
       "\n",
       "    .dataframe thead th {\n",
       "        text-align: right;\n",
       "    }\n",
       "</style>\n",
       "<table border=\"1\" class=\"dataframe\">\n",
       "  <thead>\n",
       "    <tr style=\"text-align: right;\">\n",
       "      <th></th>\n",
       "      <th>Columns</th>\n",
       "      <th>Skewness</th>\n",
       "      <th>Kurtosis</th>\n",
       "    </tr>\n",
       "  </thead>\n",
       "  <tbody>\n",
       "    <tr>\n",
       "      <th>0</th>\n",
       "      <td>age</td>\n",
       "      <td>-0.137059</td>\n",
       "      <td>-0.991010</td>\n",
       "    </tr>\n",
       "    <tr>\n",
       "      <th>1</th>\n",
       "      <td>avg_glucose_level</td>\n",
       "      <td>1.572284</td>\n",
       "      <td>1.680479</td>\n",
       "    </tr>\n",
       "    <tr>\n",
       "      <th>2</th>\n",
       "      <td>bmi</td>\n",
       "      <td>1.076716</td>\n",
       "      <td>3.623061</td>\n",
       "    </tr>\n",
       "  </tbody>\n",
       "</table>\n",
       "</div>"
      ],
      "text/plain": [
       "             Columns  Skewness  Kurtosis\n",
       "0                age -0.137059 -0.991010\n",
       "1  avg_glucose_level  1.572284  1.680479\n",
       "2                bmi  1.076716  3.623061"
      ]
     },
     "execution_count": 26,
     "metadata": {},
     "output_type": "execute_result"
    }
   ],
   "source": [
    "# Skewness and kurtosis\n",
    "s_k=[]\n",
    "for i in df_numerical.columns:\n",
    "    s_k.append([i,df_numerical[i].skew(),df_numerical[i].kurt()])\n",
    "skew_kurt=pd.DataFrame(s_k,columns=['Columns','Skewness','Kurtosis'])\n",
    "skew_kurt"
   ]
  },
  {
   "cell_type": "code",
   "execution_count": 27,
   "id": "a56d1a4b",
   "metadata": {},
   "outputs": [
    {
     "data": {
      "image/png": "[encoded data removed]",
      "text/plain": [
       "<Figure size 360x360 with 1 Axes>"
      ]
     },
     "metadata": {
      "needs_background": "light"
     },
     "output_type": "display_data"
    },
    {
     "data": {
      "image/png": "[encoded data removed]",
      "text/plain": [
       "<Figure size 360x360 with 1 Axes>"
      ]
     },
     "metadata": {
      "needs_background": "light"
     },
     "output_type": "display_data"
    },
    {
     "data": {
      "image/png": "[encoded data removed]",
      "text/plain": [
       "<Figure size 360x360 with 1 Axes>"
      ]
     },
     "metadata": {
      "needs_background": "light"
     },
     "output_type": "display_data"
    }
   ],
   "source": [
    "# Strip plot of numerical variables with respect to stroke\n",
    "for col in df_numerical.columns:\n",
    "    plt.figure(figsize=(5,5))\n",
    "    sns.stripplot(data=df, x='stroke', y=col , palette = colors)\n",
    "    plt.show()\n",
    "\n"
   ]
  },
  {
   "cell_type": "markdown",
   "id": "bef602e2",
   "metadata": {},
   "source": [
    "### 8) People living in urban areas have more chances of getting stroke? (need to confirm)<a name=\"EDA8\"></a>"
   ]
  },
  {
   "cell_type": "code",
   "execution_count": 28,
   "id": "980eb635",
   "metadata": {},
   "outputs": [
    {
     "data": {
      "text/plain": [
       "<AxesSubplot:xlabel='Residence_type', ylabel='count'>"
      ]
     },
     "execution_count": 28,
     "metadata": {},
     "output_type": "execute_result"
    },
    {
     "data": {
      "image/png": "[encoded data removed]",
      "text/plain": [
       "<Figure size 432x288 with 1 Axes>"
      ]
     },
     "metadata": {
      "needs_background": "light"
     },
     "output_type": "display_data"
    }
   ],
   "source": [
    "import seaborn as sns\n",
    "\n",
    "# Create a bar plot of stroke counts based on residence type\n",
    "sns.countplot(data=df, x='Residence_type', hue='stroke', palette = colors)\n"
   ]
  },
  {
   "cell_type": "markdown",
   "id": "51367eb0",
   "metadata": {},
   "source": [
    "### 9) BMI must be closely observed with age and gender.<a name=\"EDA9\"></a>"
   ]
  },
  {
   "cell_type": "code",
   "execution_count": 29,
   "id": "ba033352",
   "metadata": {},
   "outputs": [
    {
     "data": {
      "text/plain": [
       "<AxesSubplot:xlabel='age', ylabel='bmi'>"
      ]
     },
     "execution_count": 29,
     "metadata": {},
     "output_type": "execute_result"
    },
    {
     "data": {
      "image/png": "[encoded data removed]",
      "text/plain": [
       "<Figure size 432x288 with 1 Axes>"
      ]
     },
     "metadata": {
      "needs_background": "light"
     },
     "output_type": "display_data"
    }
   ],
   "source": [
    "#In this scatterplot we can observe the relationship between age, bmi and gender.\n",
    "sns.scatterplot(data=df, x=\"age\", y=\"bmi\", hue=\"gender\")\n"
   ]
  },
  {
   "cell_type": "markdown",
   "id": "a19411f1",
   "metadata": {},
   "source": [
    "### 10) People who smoke are more likely to get a stroke (need confirmation).<a name=\"EDA10\"></a>"
   ]
  },
  {
   "cell_type": "code",
   "execution_count": 30,
   "id": "efa60272",
   "metadata": {},
   "outputs": [
    {
     "data": {
      "image/png": "[encoded data removed]",
      "text/plain": [
       "<Figure size 720x360 with 1 Axes>"
      ]
     },
     "metadata": {
      "needs_background": "light"
     },
     "output_type": "display_data"
    }
   ],
   "source": [
    "pd_stroke = df[df['stroke']==1]['smoking_status'].value_counts().reset_index()\n",
    "pd_stroke.columns = ['smoking_status', 'stroke_count']\n",
    "colors1 = [\"#87CEEB\",\"#FFA07A\",\"#D4D4D4\",\"#8B0000\"]\n",
    "plt.figure(figsize=(10, 5))\n",
    "sns.barplot(data=pd_stroke, x='smoking_status', y='stroke_count', palette = colors1)\n",
    "plt.title('Smoking Status and Stroke', fontsize=18, fontweight='bold', fontfamily='serif')\n",
    "plt.xlabel('Smoking Status')\n",
    "plt.ylabel('Stroke Count')\n",
    "sns.despine()\n",
    "plt.show()\n"
   ]
  },
  {
   "cell_type": "markdown",
   "id": "7dd07b87",
   "metadata": {},
   "source": [
    "### Correlation <a name=\"EDA11\"></a>"
   ]
  },
  {
   "cell_type": "code",
   "execution_count": 31,
   "id": "fb3674b5",
   "metadata": {},
   "outputs": [
    {
     "data": {
      "text/plain": [
       "Text(0.5, 1.0, 'kendall correlation')"
      ]
     },
     "execution_count": 31,
     "metadata": {},
     "output_type": "execute_result"
    },
    {
     "data": {
      "image/png": "[encoded data removed]",
      "text/plain": [
       "<Figure size 720x576 with 2 Axes>"
      ]
     },
     "metadata": {
      "needs_background": "light"
     },
     "output_type": "display_data"
    }
   ],
   "source": [
    "plt.figure(figsize = (10,8))\n",
    "sns.heatmap(df.corr(method = \"kendall\"), cmap = 'coolwarm', annot = True);\n",
    "plt.title(\"kendall correlation\",fontsize = 15)"
   ]
  },
  {
   "cell_type": "code",
   "execution_count": 32,
   "id": "680233f9",
   "metadata": {},
   "outputs": [
    {
     "data": {
      "text/plain": [
       "Text(0.5, 1.0, 'Spearmen correlation')"
      ]
     },
     "execution_count": 32,
     "metadata": {},
     "output_type": "execute_result"
    },
    {
     "data": {
      "image/png": "[encoded data removed]",
      "text/plain": [
       "<Figure size 720x576 with 2 Axes>"
      ]
     },
     "metadata": {
      "needs_background": "light"
     },
     "output_type": "display_data"
    }
   ],
   "source": [
    "plt.figure(figsize = (10,8))\n",
    "sns.heatmap(df.corr(method = \"spearman\"), cmap = 'coolwarm', annot = True);\n",
    "plt.title(\"Spearmen correlation\",fontsize = 15)"
   ]
  },
  {
   "cell_type": "markdown",
   "id": "527a2919",
   "metadata": {},
   "source": [
    "# 4. Data Preprocessing<a name=\"Data_Preprocessing\"></a>"
   ]
  },
  {
   "cell_type": "markdown",
   "id": "30b01390",
   "metadata": {},
   "source": [
    "Firest convert categorical variables to binary variables.\n",
    "We already converted gender above"
   ]
  },
  {
   "cell_type": "code",
   "execution_count": 33,
   "id": "e9241427",
   "metadata": {},
   "outputs": [],
   "source": [
    "df['Residence_type'] = df['Residence_type'].apply(lambda x : 1 if x == 'Urban' else 0)\n",
    "df['ever_married'] = df['ever_married'].apply(lambda x : 1 if x == 'Yes' else 0)\n",
    "\n",
    "# Remove observations with unknown smoking status\n",
    "df = df[df['smoking_status'] != 'Unknown']\n"
   ]
  },
  {
   "cell_type": "markdown",
   "id": "7d64f61b",
   "metadata": {},
   "source": [
    "I now have performed One Hot encoding on the dataset. "
   ]
  },
  {
   "cell_type": "code",
   "execution_count": 34,
   "id": "63d74175",
   "metadata": {},
   "outputs": [],
   "source": [
    "# One Hot encoding smoking_status, work_type\n",
    "df_dummies = df[['smoking_status','work_type']]\n",
    "df_dummies=pd.get_dummies(df_dummies)\n",
    "df.drop(columns=['smoking_status','work_type'],inplace=True)"
   ]
  },
  {
   "cell_type": "code",
   "execution_count": 35,
   "id": "f5d03a5c",
   "metadata": {},
   "outputs": [],
   "source": [
    "df_stroke=df['stroke']\n",
    "df.drop(columns=['stroke'],inplace=True)\n",
    "df=df.merge(df_dummies,left_index=True, right_index=True,how='left')"
   ]
  },
  {
   "cell_type": "markdown",
   "id": "d2a65e73",
   "metadata": {},
   "source": [
    "Here I have removed the Target variable 'stroke' from the dataset after storing it into the 'df_stroke' variable"
   ]
  },
  {
   "cell_type": "markdown",
   "id": "5402a1f1",
   "metadata": {},
   "source": [
    "Now I have split the dataset into test and training model with the test train split command. "
   ]
  },
  {
   "cell_type": "code",
   "execution_count": 36,
   "id": "903c8e73",
   "metadata": {},
   "outputs": [],
   "source": [
    "from sklearn.model_selection import train_test_split\n",
    "x_train,x_test,y_train,y_test = train_test_split(df,df_stroke,test_size=0.25,random_state=0)"
   ]
  },
  {
   "cell_type": "markdown",
   "id": "26e3d6d0",
   "metadata": {},
   "source": [
    "In this case, 25% of the dataset will be reserved for testing, and the remaining 75% will be used for training.\n"
   ]
  },
  {
   "cell_type": "markdown",
   "id": "67ba3549",
   "metadata": {},
   "source": [
    "Now I started Standardizing our training and testing data. \n",
    "<p>It would make sure that every feature is important for the analysis as it scales the data</p>"
   ]
  },
  {
   "cell_type": "code",
   "execution_count": 37,
   "id": "6e158e88",
   "metadata": {},
   "outputs": [],
   "source": [
    "# Standardizing our training and testing data.\n",
    "from sklearn.preprocessing import StandardScaler\n",
    "scaler = StandardScaler()\n",
    "x_train = scaler.fit_transform(x_train)\n",
    "x_test = scaler.transform(x_test)\n",
    "\n",
    "#We perform feature scaling after splitting the data into training and testing sets in order to avoid data leakage."
   ]
  },
  {
   "cell_type": "code",
   "execution_count": 38,
   "id": "011642e1",
   "metadata": {},
   "outputs": [],
   "source": [
    "from imblearn.over_sampling import SMOTE\n",
    "sm = SMOTE(random_state=4)\n",
    "x_train, y_train = sm.fit_resample(x_train, y_train.ravel())"
   ]
  },
  {
   "cell_type": "markdown",
   "id": "421ffd0b",
   "metadata": {},
   "source": [
    "We used SMOTE (Synthetic Minority Over-sampling Technique) is a data augmentation technique used in machine learning to address the problem of class imbalance. It works by creating new synthetic examples of the minority class by interpolating between existing examples, and can help to balance the class distribution in the dataset and improve the performance of machine learning algorithms."
   ]
  },
  {
   "cell_type": "code",
   "execution_count": 39,
   "id": "8f581cbb",
   "metadata": {},
   "outputs": [
    {
     "data": {
      "text/html": [
       "<div>\n",
       "<style scoped>\n",
       "    .dataframe tbody tr th:only-of-type {\n",
       "        vertical-align: middle;\n",
       "    }\n",
       "\n",
       "    .dataframe tbody tr th {\n",
       "        vertical-align: top;\n",
       "    }\n",
       "\n",
       "    .dataframe thead th {\n",
       "        text-align: right;\n",
       "    }\n",
       "</style>\n",
       "<table border=\"1\" class=\"dataframe\">\n",
       "  <thead>\n",
       "    <tr style=\"text-align: right;\">\n",
       "      <th></th>\n",
       "      <th>gender</th>\n",
       "      <th>age</th>\n",
       "      <th>hypertension</th>\n",
       "      <th>heart_disease</th>\n",
       "      <th>ever_married</th>\n",
       "      <th>Residence_type</th>\n",
       "      <th>avg_glucose_level</th>\n",
       "      <th>bmi</th>\n",
       "      <th>smoking_status_formerly smoked</th>\n",
       "      <th>smoking_status_never smoked</th>\n",
       "      <th>smoking_status_smokes</th>\n",
       "      <th>work_type_Govt_job</th>\n",
       "      <th>work_type_Never_worked</th>\n",
       "      <th>work_type_Private</th>\n",
       "      <th>work_type_Self-employed</th>\n",
       "      <th>work_type_children</th>\n",
       "    </tr>\n",
       "  </thead>\n",
       "  <tbody>\n",
       "    <tr>\n",
       "      <th>0</th>\n",
       "      <td>1</td>\n",
       "      <td>67.0</td>\n",
       "      <td>0</td>\n",
       "      <td>1</td>\n",
       "      <td>1</td>\n",
       "      <td>1</td>\n",
       "      <td>228.69</td>\n",
       "      <td>36.600000</td>\n",
       "      <td>1</td>\n",
       "      <td>0</td>\n",
       "      <td>0</td>\n",
       "      <td>0</td>\n",
       "      <td>0</td>\n",
       "      <td>1</td>\n",
       "      <td>0</td>\n",
       "      <td>0</td>\n",
       "    </tr>\n",
       "    <tr>\n",
       "      <th>1</th>\n",
       "      <td>0</td>\n",
       "      <td>61.0</td>\n",
       "      <td>0</td>\n",
       "      <td>0</td>\n",
       "      <td>1</td>\n",
       "      <td>0</td>\n",
       "      <td>202.21</td>\n",
       "      <td>28.893237</td>\n",
       "      <td>0</td>\n",
       "      <td>1</td>\n",
       "      <td>0</td>\n",
       "      <td>0</td>\n",
       "      <td>0</td>\n",
       "      <td>0</td>\n",
       "      <td>1</td>\n",
       "      <td>0</td>\n",
       "    </tr>\n",
       "    <tr>\n",
       "      <th>2</th>\n",
       "      <td>1</td>\n",
       "      <td>80.0</td>\n",
       "      <td>0</td>\n",
       "      <td>1</td>\n",
       "      <td>1</td>\n",
       "      <td>0</td>\n",
       "      <td>105.92</td>\n",
       "      <td>32.500000</td>\n",
       "      <td>0</td>\n",
       "      <td>1</td>\n",
       "      <td>0</td>\n",
       "      <td>0</td>\n",
       "      <td>0</td>\n",
       "      <td>1</td>\n",
       "      <td>0</td>\n",
       "      <td>0</td>\n",
       "    </tr>\n",
       "    <tr>\n",
       "      <th>3</th>\n",
       "      <td>0</td>\n",
       "      <td>49.0</td>\n",
       "      <td>0</td>\n",
       "      <td>0</td>\n",
       "      <td>1</td>\n",
       "      <td>1</td>\n",
       "      <td>171.23</td>\n",
       "      <td>34.400000</td>\n",
       "      <td>0</td>\n",
       "      <td>0</td>\n",
       "      <td>1</td>\n",
       "      <td>0</td>\n",
       "      <td>0</td>\n",
       "      <td>1</td>\n",
       "      <td>0</td>\n",
       "      <td>0</td>\n",
       "    </tr>\n",
       "    <tr>\n",
       "      <th>4</th>\n",
       "      <td>0</td>\n",
       "      <td>79.0</td>\n",
       "      <td>1</td>\n",
       "      <td>0</td>\n",
       "      <td>1</td>\n",
       "      <td>0</td>\n",
       "      <td>174.12</td>\n",
       "      <td>24.000000</td>\n",
       "      <td>0</td>\n",
       "      <td>1</td>\n",
       "      <td>0</td>\n",
       "      <td>0</td>\n",
       "      <td>0</td>\n",
       "      <td>0</td>\n",
       "      <td>1</td>\n",
       "      <td>0</td>\n",
       "    </tr>\n",
       "    <tr>\n",
       "      <th>...</th>\n",
       "      <td>...</td>\n",
       "      <td>...</td>\n",
       "      <td>...</td>\n",
       "      <td>...</td>\n",
       "      <td>...</td>\n",
       "      <td>...</td>\n",
       "      <td>...</td>\n",
       "      <td>...</td>\n",
       "      <td>...</td>\n",
       "      <td>...</td>\n",
       "      <td>...</td>\n",
       "      <td>...</td>\n",
       "      <td>...</td>\n",
       "      <td>...</td>\n",
       "      <td>...</td>\n",
       "      <td>...</td>\n",
       "    </tr>\n",
       "    <tr>\n",
       "      <th>5102</th>\n",
       "      <td>0</td>\n",
       "      <td>57.0</td>\n",
       "      <td>0</td>\n",
       "      <td>0</td>\n",
       "      <td>1</td>\n",
       "      <td>0</td>\n",
       "      <td>77.93</td>\n",
       "      <td>21.700000</td>\n",
       "      <td>0</td>\n",
       "      <td>1</td>\n",
       "      <td>0</td>\n",
       "      <td>0</td>\n",
       "      <td>0</td>\n",
       "      <td>1</td>\n",
       "      <td>0</td>\n",
       "      <td>0</td>\n",
       "    </tr>\n",
       "    <tr>\n",
       "      <th>5105</th>\n",
       "      <td>0</td>\n",
       "      <td>80.0</td>\n",
       "      <td>1</td>\n",
       "      <td>0</td>\n",
       "      <td>1</td>\n",
       "      <td>1</td>\n",
       "      <td>83.75</td>\n",
       "      <td>28.893237</td>\n",
       "      <td>0</td>\n",
       "      <td>1</td>\n",
       "      <td>0</td>\n",
       "      <td>0</td>\n",
       "      <td>0</td>\n",
       "      <td>1</td>\n",
       "      <td>0</td>\n",
       "      <td>0</td>\n",
       "    </tr>\n",
       "    <tr>\n",
       "      <th>5106</th>\n",
       "      <td>0</td>\n",
       "      <td>81.0</td>\n",
       "      <td>0</td>\n",
       "      <td>0</td>\n",
       "      <td>1</td>\n",
       "      <td>1</td>\n",
       "      <td>125.20</td>\n",
       "      <td>40.000000</td>\n",
       "      <td>0</td>\n",
       "      <td>1</td>\n",
       "      <td>0</td>\n",
       "      <td>0</td>\n",
       "      <td>0</td>\n",
       "      <td>0</td>\n",
       "      <td>1</td>\n",
       "      <td>0</td>\n",
       "    </tr>\n",
       "    <tr>\n",
       "      <th>5107</th>\n",
       "      <td>0</td>\n",
       "      <td>35.0</td>\n",
       "      <td>0</td>\n",
       "      <td>0</td>\n",
       "      <td>1</td>\n",
       "      <td>0</td>\n",
       "      <td>82.99</td>\n",
       "      <td>30.600000</td>\n",
       "      <td>0</td>\n",
       "      <td>1</td>\n",
       "      <td>0</td>\n",
       "      <td>0</td>\n",
       "      <td>0</td>\n",
       "      <td>0</td>\n",
       "      <td>1</td>\n",
       "      <td>0</td>\n",
       "    </tr>\n",
       "    <tr>\n",
       "      <th>5108</th>\n",
       "      <td>1</td>\n",
       "      <td>51.0</td>\n",
       "      <td>0</td>\n",
       "      <td>0</td>\n",
       "      <td>1</td>\n",
       "      <td>0</td>\n",
       "      <td>166.29</td>\n",
       "      <td>25.600000</td>\n",
       "      <td>1</td>\n",
       "      <td>0</td>\n",
       "      <td>0</td>\n",
       "      <td>0</td>\n",
       "      <td>0</td>\n",
       "      <td>1</td>\n",
       "      <td>0</td>\n",
       "      <td>0</td>\n",
       "    </tr>\n",
       "  </tbody>\n",
       "</table>\n",
       "<p>3566 rows × 16 columns</p>\n",
       "</div>"
      ],
      "text/plain": [
       "      gender   age  hypertension  heart_disease  ever_married  Residence_type  \\\n",
       "0          1  67.0             0              1             1               1   \n",
       "1          0  61.0             0              0             1               0   \n",
       "2          1  80.0             0              1             1               0   \n",
       "3          0  49.0             0              0             1               1   \n",
       "4          0  79.0             1              0             1               0   \n",
       "...      ...   ...           ...            ...           ...             ...   \n",
       "5102       0  57.0             0              0             1               0   \n",
       "5105       0  80.0             1              0             1               1   \n",
       "5106       0  81.0             0              0             1               1   \n",
       "5107       0  35.0             0              0             1               0   \n",
       "5108       1  51.0             0              0             1               0   \n",
       "\n",
       "      avg_glucose_level        bmi  smoking_status_formerly smoked  \\\n",
       "0                228.69  36.600000                               1   \n",
       "1                202.21  28.893237                               0   \n",
       "2                105.92  32.500000                               0   \n",
       "3                171.23  34.400000                               0   \n",
       "4                174.12  24.000000                               0   \n",
       "...                 ...        ...                             ...   \n",
       "5102              77.93  21.700000                               0   \n",
       "5105              83.75  28.893237                               0   \n",
       "5106             125.20  40.000000                               0   \n",
       "5107              82.99  30.600000                               0   \n",
       "5108             166.29  25.600000                               1   \n",
       "\n",
       "      smoking_status_never smoked  smoking_status_smokes  work_type_Govt_job  \\\n",
       "0                               0                      0                   0   \n",
       "1                               1                      0                   0   \n",
       "2                               1                      0                   0   \n",
       "3                               0                      1                   0   \n",
       "4                               1                      0                   0   \n",
       "...                           ...                    ...                 ...   \n",
       "5102                            1                      0                   0   \n",
       "5105                            1                      0                   0   \n",
       "5106                            1                      0                   0   \n",
       "5107                            1                      0                   0   \n",
       "5108                            0                      0                   0   \n",
       "\n",
       "      work_type_Never_worked  work_type_Private  work_type_Self-employed  \\\n",
       "0                          0                  1                        0   \n",
       "1                          0                  0                        1   \n",
       "2                          0                  1                        0   \n",
       "3                          0                  1                        0   \n",
       "4                          0                  0                        1   \n",
       "...                      ...                ...                      ...   \n",
       "5102                       0                  1                        0   \n",
       "5105                       0                  1                        0   \n",
       "5106                       0                  0                        1   \n",
       "5107                       0                  0                        1   \n",
       "5108                       0                  1                        0   \n",
       "\n",
       "      work_type_children  \n",
       "0                      0  \n",
       "1                      0  \n",
       "2                      0  \n",
       "3                      0  \n",
       "4                      0  \n",
       "...                  ...  \n",
       "5102                   0  \n",
       "5105                   0  \n",
       "5106                   0  \n",
       "5107                   0  \n",
       "5108                   0  \n",
       "\n",
       "[3566 rows x 16 columns]"
      ]
     },
     "execution_count": 39,
     "metadata": {},
     "output_type": "execute_result"
    }
   ],
   "source": [
    "df"
   ]
  },
  {
   "cell_type": "markdown",
   "id": "505a9cc3",
   "metadata": {},
   "source": [
    "# 5. SUPERVISED LEARNING <a name=\"Supervised_Learning\"></a>"
   ]
  },
  {
   "cell_type": "markdown",
   "id": "8df74aaf",
   "metadata": {},
   "source": [
    "Supervised learning is a type of machine learning algorithm in which the computer learns from labeled data to make predictions or decisions about new, unseen data. It is typically divided into two categories: regression and classification, and is commonly used in a wide range of applications, such as image recognition, natural language processing, and predictive analytics."
   ]
  },
  {
   "cell_type": "code",
   "execution_count": 40,
   "id": "6ce44de4",
   "metadata": {},
   "outputs": [],
   "source": [
    "##Importing the models\n",
    "\n",
    "from sklearn.tree import DecisionTreeClassifier\n",
    "from sklearn.linear_model import LogisticRegression\n",
    "from sklearn import metrics\n",
    "from sklearn.metrics import accuracy_score\n",
    "from sklearn.metrics import confusion_matrix\n",
    "from sklearn.neighbors import KNeighborsClassifier\n",
    "from sklearn.svm import SVC\n",
    "from sklearn.ensemble import GradientBoostingClassifier, AdaBoostClassifier, RandomForestClassifier\n",
    "import xgboost\n",
    "\n",
    "# Evaluation\n",
    "from sklearn.metrics import classification_report, confusion_matrix"
   ]
  },
  {
   "cell_type": "markdown",
   "id": "4462b3f5",
   "metadata": {},
   "source": [
    "I started by importing the useful libraries for the Supervised Learning algorithms. "
   ]
  },
  {
   "cell_type": "markdown",
   "id": "4e8554ac",
   "metadata": {},
   "source": [
    "Now we create a dictionary called 'models' that contains different classification models, which can be used to train and make predictions on the dataset. \n",
    "<p>Each model is instantiated with different hyperparameters, such as class_weight that specifies the relative weights of the different classes in the target variable. </p>\n",
    "<p>In Decision Tree the weight of the positive class (1) is set to twice the weight of the negative class (0). This can be useful to address class imbalance problems in the dataset.</p>"
   ]
  },
  {
   "cell_type": "code",
   "execution_count": 41,
   "id": "38cd7d23",
   "metadata": {},
   "outputs": [],
   "source": [
    "models = dict()\n",
    "models['Decision Tree'] = DecisionTreeClassifier(class_weight={0:1,1:2}) \n",
    "models['Random Forest'] = RandomForestClassifier(class_weight={0:1,1:2})\n",
    "models['Logreg'] = LogisticRegression()\n",
    "models['GradientBoost'] = GradientBoostingClassifier()\n",
    "models['AdaBoost'] = AdaBoostClassifier()\n",
    "models['XGBoost'] = xgboost.XGBClassifier()\n",
    "models['SVM']= SVC(probability=True)\n",
    "models['KNeighbors']= KNeighborsClassifier()"
   ]
  },
  {
   "cell_type": "markdown",
   "id": "6a995f4c",
   "metadata": {},
   "source": [
    "## 5.1 Model Fitting<a name=\"Model_Fitting\"></a>"
   ]
  },
  {
   "cell_type": "code",
   "execution_count": 42,
   "id": "93410e29",
   "metadata": {},
   "outputs": [
    {
     "name": "stdout",
     "output_type": "stream",
     "text": [
      "Decision Tree : fit\n",
      "Random Forest : fit\n",
      "Logreg : fit\n",
      "GradientBoost : fit\n",
      "AdaBoost : fit\n",
      "XGBoost : fit\n",
      "SVM : fit\n",
      "KNeighbors : fit\n"
     ]
    }
   ],
   "source": [
    "for model in models:\n",
    "    models[model].fit(x_train, y_train)\n",
    "    print(model + ' : fit')"
   ]
  },
  {
   "cell_type": "markdown",
   "id": "682eca1b",
   "metadata": {},
   "source": [
    "## 5.2 Train set Modeling<a name=\"TrainSM\"></a> "
   ]
  },
  {
   "cell_type": "code",
   "execution_count": 43,
   "id": "36167118",
   "metadata": {},
   "outputs": [
    {
     "name": "stdout",
     "output_type": "stream",
     "text": [
      "Train set prediction\n",
      "------------------------Decision Tree------------------------\n",
      "[[2521    0]\n",
      " [   0 2521]]\n",
      "              precision    recall  f1-score   support\n",
      "\n",
      "           0       1.00      1.00      1.00      2521\n",
      "           1       1.00      1.00      1.00      2521\n",
      "\n",
      "    accuracy                           1.00      5042\n",
      "   macro avg       1.00      1.00      1.00      5042\n",
      "weighted avg       1.00      1.00      1.00      5042\n",
      "\n",
      "------------------------Random Forest------------------------\n",
      "[[2521    0]\n",
      " [   0 2521]]\n",
      "              precision    recall  f1-score   support\n",
      "\n",
      "           0       1.00      1.00      1.00      2521\n",
      "           1       1.00      1.00      1.00      2521\n",
      "\n",
      "    accuracy                           1.00      5042\n",
      "   macro avg       1.00      1.00      1.00      5042\n",
      "weighted avg       1.00      1.00      1.00      5042\n",
      "\n",
      "------------------------Logreg------------------------\n",
      "[[1819  702]\n",
      " [ 463 2058]]\n",
      "              precision    recall  f1-score   support\n",
      "\n",
      "           0       0.80      0.72      0.76      2521\n",
      "           1       0.75      0.82      0.78      2521\n",
      "\n",
      "    accuracy                           0.77      5042\n",
      "   macro avg       0.77      0.77      0.77      5042\n",
      "weighted avg       0.77      0.77      0.77      5042\n",
      "\n",
      "------------------------GradientBoost------------------------\n",
      "[[2267  254]\n",
      " [ 255 2266]]\n",
      "              precision    recall  f1-score   support\n",
      "\n",
      "           0       0.90      0.90      0.90      2521\n",
      "           1       0.90      0.90      0.90      2521\n",
      "\n",
      "    accuracy                           0.90      5042\n",
      "   macro avg       0.90      0.90      0.90      5042\n",
      "weighted avg       0.90      0.90      0.90      5042\n",
      "\n",
      "------------------------AdaBoost------------------------\n",
      "[[2001  520]\n",
      " [ 304 2217]]\n",
      "              precision    recall  f1-score   support\n",
      "\n",
      "           0       0.87      0.79      0.83      2521\n",
      "           1       0.81      0.88      0.84      2521\n",
      "\n",
      "    accuracy                           0.84      5042\n",
      "   macro avg       0.84      0.84      0.84      5042\n",
      "weighted avg       0.84      0.84      0.84      5042\n",
      "\n",
      "------------------------XGBoost------------------------\n",
      "[[2520    1]\n",
      " [   9 2512]]\n",
      "              precision    recall  f1-score   support\n",
      "\n",
      "           0       1.00      1.00      1.00      2521\n",
      "           1       1.00      1.00      1.00      2521\n",
      "\n",
      "    accuracy                           1.00      5042\n",
      "   macro avg       1.00      1.00      1.00      5042\n",
      "weighted avg       1.00      1.00      1.00      5042\n",
      "\n",
      "------------------------SVM------------------------\n",
      "[[2100  421]\n",
      " [ 157 2364]]\n",
      "              precision    recall  f1-score   support\n",
      "\n",
      "           0       0.93      0.83      0.88      2521\n",
      "           1       0.85      0.94      0.89      2521\n",
      "\n",
      "    accuracy                           0.89      5042\n",
      "   macro avg       0.89      0.89      0.89      5042\n",
      "weighted avg       0.89      0.89      0.89      5042\n",
      "\n",
      "------------------------KNeighbors------------------------\n",
      "[[2213  308]\n",
      " [  19 2502]]\n",
      "              precision    recall  f1-score   support\n",
      "\n",
      "           0       0.99      0.88      0.93      2521\n",
      "           1       0.89      0.99      0.94      2521\n",
      "\n",
      "    accuracy                           0.94      5042\n",
      "   macro avg       0.94      0.94      0.93      5042\n",
      "weighted avg       0.94      0.94      0.93      5042\n",
      "\n"
     ]
    }
   ],
   "source": [
    " print(\"Train set prediction\")\n",
    "for x in models:\n",
    "        \n",
    "    print('------------------------'+x+'------------------------')\n",
    "    model = models[x]\n",
    "    y_train_pred = model.predict(x_train)\n",
    "    arg_train = {'y_true':y_train, 'y_pred':y_train_pred}\n",
    "    print(confusion_matrix(**arg_train))\n",
    "    print(classification_report(**arg_train))"
   ]
  },
  {
   "cell_type": "markdown",
   "id": "3e73156f",
   "metadata": {},
   "source": [
    "The performance on train set is (too) good. That's because we use SMOTE. It makes model learn very well because of having a perfect balance dataset.\n",
    "<p>Next, We will perform Cross Validation.</p>"
   ]
  },
  {
   "cell_type": "markdown",
   "id": "74ac4cd5",
   "metadata": {},
   "source": [
    "## 5.3 Cross Validation<a name=\"CrossVal\"></a> "
   ]
  },
  {
   "cell_type": "markdown",
   "id": "b53c48d4",
   "metadata": {},
   "source": [
    "Cross-validation is a technique used in machine learning to evaluate the performance of a model by splitting the dataset into multiple partitions or folds(ex- 10x fold Cross Validation), training the model on some folds and testing it on others, and repeating the process multiple times to obtain a more accurate estimate of the model's generalization performance"
   ]
  },
  {
   "cell_type": "code",
   "execution_count": 44,
   "id": "d67e670e",
   "metadata": {},
   "outputs": [],
   "source": [
    "from sklearn.model_selection import cross_val_score, StratifiedKFold"
   ]
  },
  {
   "cell_type": "code",
   "execution_count": 45,
   "id": "563806c5",
   "metadata": {},
   "outputs": [],
   "source": [
    "cv = StratifiedKFold(n_splits=5, shuffle=True, random_state=42)"
   ]
  },
  {
   "cell_type": "code",
   "execution_count": 46,
   "id": "dc05f799",
   "metadata": {},
   "outputs": [
    {
     "name": "stdout",
     "output_type": "stream",
     "text": [
      "Decision Tree Accuracy: 0.877 +/- 0.013\n",
      "Random Forest Accuracy: 0.942 +/- 0.003\n",
      "Logreg Accuracy: 0.766 +/- 0.007\n",
      "GradientBoost Accuracy: 0.882 +/- 0.005\n",
      "AdaBoost Accuracy: 0.833 +/- 0.011\n",
      "XGBoost Accuracy: 0.947 +/- 0.004\n",
      "SVM Accuracy: 0.862 +/- 0.007\n",
      "KNeighbors Accuracy: 0.887 +/- 0.008\n"
     ]
    }
   ],
   "source": [
    "for name, model in models.items():\n",
    "    scores = cross_val_score(model, x_train, y_train, cv=cv, scoring='accuracy')\n",
    "    print(f'{name} Accuracy: {np.mean(scores):.3f} +/- {np.std(scores):.3f}')"
   ]
  },
  {
   "cell_type": "markdown",
   "id": "c1e29377",
   "metadata": {},
   "source": [
    "This shows the mean accuracy and standard deviation for each model's performance on the training data, averaged over five different folds of the data."
   ]
  },
  {
   "cell_type": "markdown",
   "id": "bab5982f",
   "metadata": {},
   "source": [
    "## 5.4 Test set Modeling<a name=\"TestSM\"></a> "
   ]
  },
  {
   "cell_type": "code",
   "execution_count": 47,
   "id": "3287e0b6",
   "metadata": {},
   "outputs": [
    {
     "name": "stdout",
     "output_type": "stream",
     "text": [
      "Test set prediction\n",
      "------------------------Decision Tree------------------------\n",
      "[[742 101]\n",
      " [ 40   9]]\n",
      "              precision    recall  f1-score   support\n",
      "\n",
      "           0       0.95      0.88      0.91       843\n",
      "           1       0.08      0.18      0.11        49\n",
      "\n",
      "    accuracy                           0.84       892\n",
      "   macro avg       0.52      0.53      0.51       892\n",
      "weighted avg       0.90      0.84      0.87       892\n",
      "\n",
      "------------------------Random Forest------------------------\n",
      "[[789  54]\n",
      " [ 42   7]]\n",
      "              precision    recall  f1-score   support\n",
      "\n",
      "           0       0.95      0.94      0.94       843\n",
      "           1       0.11      0.14      0.13        49\n",
      "\n",
      "    accuracy                           0.89       892\n",
      "   macro avg       0.53      0.54      0.53       892\n",
      "weighted avg       0.90      0.89      0.90       892\n",
      "\n",
      "------------------------Logreg------------------------\n",
      "[[626 217]\n",
      " [ 16  33]]\n",
      "              precision    recall  f1-score   support\n",
      "\n",
      "           0       0.98      0.74      0.84       843\n",
      "           1       0.13      0.67      0.22        49\n",
      "\n",
      "    accuracy                           0.74       892\n",
      "   macro avg       0.55      0.71      0.53       892\n",
      "weighted avg       0.93      0.74      0.81       892\n",
      "\n",
      "------------------------GradientBoost------------------------\n",
      "[[769  74]\n",
      " [ 35  14]]\n",
      "              precision    recall  f1-score   support\n",
      "\n",
      "           0       0.96      0.91      0.93       843\n",
      "           1       0.16      0.29      0.20        49\n",
      "\n",
      "    accuracy                           0.88       892\n",
      "   macro avg       0.56      0.60      0.57       892\n",
      "weighted avg       0.91      0.88      0.89       892\n",
      "\n",
      "------------------------AdaBoost------------------------\n",
      "[[685 158]\n",
      " [ 23  26]]\n",
      "              precision    recall  f1-score   support\n",
      "\n",
      "           0       0.97      0.81      0.88       843\n",
      "           1       0.14      0.53      0.22        49\n",
      "\n",
      "    accuracy                           0.80       892\n",
      "   macro avg       0.55      0.67      0.55       892\n",
      "weighted avg       0.92      0.80      0.85       892\n",
      "\n",
      "------------------------XGBoost------------------------\n",
      "[[817  26]\n",
      " [ 42   7]]\n",
      "              precision    recall  f1-score   support\n",
      "\n",
      "           0       0.95      0.97      0.96       843\n",
      "           1       0.21      0.14      0.17        49\n",
      "\n",
      "    accuracy                           0.92       892\n",
      "   macro avg       0.58      0.56      0.57       892\n",
      "weighted avg       0.91      0.92      0.92       892\n",
      "\n",
      "------------------------SVM------------------------\n",
      "[[691 152]\n",
      " [ 28  21]]\n",
      "              precision    recall  f1-score   support\n",
      "\n",
      "           0       0.96      0.82      0.88       843\n",
      "           1       0.12      0.43      0.19        49\n",
      "\n",
      "    accuracy                           0.80       892\n",
      "   macro avg       0.54      0.62      0.54       892\n",
      "weighted avg       0.91      0.80      0.85       892\n",
      "\n",
      "------------------------KNeighbors------------------------\n",
      "[[694 149]\n",
      " [ 33  16]]\n",
      "              precision    recall  f1-score   support\n",
      "\n",
      "           0       0.95      0.82      0.88       843\n",
      "           1       0.10      0.33      0.15        49\n",
      "\n",
      "    accuracy                           0.80       892\n",
      "   macro avg       0.53      0.57      0.52       892\n",
      "weighted avg       0.91      0.80      0.84       892\n",
      "\n"
     ]
    }
   ],
   "source": [
    "print(\"Test set prediction\")\n",
    "for x in models:\n",
    "        \n",
    "    print('------------------------'+x+'------------------------')\n",
    "    model = models[x]\n",
    "    y_test_pred = model.predict(x_test)\n",
    "    arg_test = {'y_true':y_test, 'y_pred':y_test_pred}\n",
    "    print(confusion_matrix(**arg_test))\n",
    "    print(classification_report(**arg_test))"
   ]
  },
  {
   "cell_type": "markdown",
   "id": "b983b37b",
   "metadata": {},
   "source": [
    "The best model for our testing data was the XGBoost, as it outperforms all the other models.\n",
    "With the accuracy rate of 92%."
   ]
  },
  {
   "cell_type": "markdown",
   "id": "91813441",
   "metadata": {},
   "source": [
    "## 5.5 Confusion Matrix <a name=\"ConfMat\"></a> "
   ]
  },
  {
   "cell_type": "code",
   "execution_count": 48,
   "id": "ebf8a205",
   "metadata": {},
   "outputs": [
    {
     "name": "stdout",
     "output_type": "stream",
     "text": [
      "Confusion matrix for Decision Tree:\n",
      "[[741 102]\n",
      " [ 38  11]]\n",
      "Confusion matrix for Random Forest:\n",
      "[[797  46]\n",
      " [ 43   6]]\n",
      "Confusion matrix for Logreg:\n",
      "[[626 217]\n",
      " [ 16  33]]\n",
      "Confusion matrix for GradientBoost:\n",
      "[[769  74]\n",
      " [ 35  14]]\n",
      "Confusion matrix for AdaBoost:\n",
      "[[685 158]\n",
      " [ 23  26]]\n",
      "Confusion matrix for XGBoost:\n",
      "[[817  26]\n",
      " [ 42   7]]\n",
      "Confusion matrix for SVM:\n",
      "[[691 152]\n",
      " [ 28  21]]\n",
      "Confusion matrix for KNeighbors:\n",
      "[[694 149]\n",
      " [ 33  16]]\n"
     ]
    }
   ],
   "source": [
    "from sklearn.metrics import confusion_matrix\n",
    "import numpy as np\n",
    "\n",
    "# Train each model\n",
    "for name, model in models.items():\n",
    "    model.fit(x_train, y_train)\n",
    "    y_pred = model.predict(x_test)\n",
    "\n",
    "    # Generate confusion matrix\n",
    "    cm = confusion_matrix(y_test, y_pred)\n",
    "\n",
    "    # Print confusion matrix\n",
    "    print(f\"Confusion matrix for {name}:\")\n",
    "    print(cm)\n"
   ]
  },
  {
   "cell_type": "markdown",
   "id": "f45ac18e",
   "metadata": {},
   "source": [
    "Here we have the confusion matrix of all the models."
   ]
  },
  {
   "cell_type": "markdown",
   "id": "d79b16a1",
   "metadata": {},
   "source": [
    "Even though we have the best model for our testing data I still wanted to do a grid search on the Random forest.\n",
    "Just to see if it will give me better results."
   ]
  },
  {
   "cell_type": "markdown",
   "id": "9149eab9",
   "metadata": {},
   "source": [
    "## 5.6 Grid Search <a name=\"GridSearch\"></a> "
   ]
  },
  {
   "cell_type": "markdown",
   "id": "b922f084",
   "metadata": {},
   "source": [
    "Grid search is a hyperparameter tuning technique used in machine learning to find the best combination of hyperparameters for a given model. Hyperparameters are parameters that are not learned from data, but are set before training the model, such as the learning rate, regularization parameter, number of hidden layers in a neural network, etc. The choice of hyperparameters can have a significant impact on the performance of the model, and finding the optimal values can be a time-consuming and iterative process.\n",
    "<p>Grid search simplifies this process by creating a grid of all possible combinations of hyperparameter values, and evaluating the performance of the model on each combination using cross-validation. The optimal hyperparameters are then selected based on the highest cross-validation score.</p>\n",
    "\n",
    "\n"
   ]
  },
  {
   "cell_type": "code",
   "execution_count": 49,
   "id": "61760fe5",
   "metadata": {},
   "outputs": [
    {
     "name": "stdout",
     "output_type": "stream",
     "text": [
      "Best hyperparameters:  {'max_depth': None, 'min_samples_split': 2, 'n_estimators': 200}\n",
      "Accuracy score:  0.9438739833561438\n"
     ]
    }
   ],
   "source": [
    "from sklearn.model_selection import GridSearchCV\n",
    "\n",
    "# Define the hyperparameters to search over\n",
    "param_grid = {\n",
    "    'n_estimators': [ 100, 200],\n",
    "    'max_depth': [None, 5, 10],\n",
    "    'min_samples_split': [2, 5]\n",
    "}\n",
    "\n",
    "# Define the random forest model\n",
    "rf_model = RandomForestClassifier()\n",
    "\n",
    "# Perform grid search with 5-fold cross-validation\n",
    "grid_search = GridSearchCV(rf_model, param_grid=param_grid, cv=5, scoring='accuracy')\n",
    "\n",
    "# Fit the grid search to the training data\n",
    "grid_search.fit(x_train, y_train)\n",
    "\n",
    "# Print the best hyperparameters and corresponding accuracy score\n",
    "print(\"Best hyperparameters: \", grid_search.best_params_)\n",
    "print(\"Accuracy score: \", grid_search.best_score_)\n"
   ]
  },
  {
   "cell_type": "markdown",
   "id": "1aea471f",
   "metadata": {},
   "source": [
    "After performing the Grid Search we can oberserve that the Random forest is now outperforming the XGBoost.\n",
    "The accuracy of default XGBoost was 92 and now the accuracy of the Random forest after changing the hyperparameters is 94.4."
   ]
  },
  {
   "cell_type": "markdown",
   "id": "1b2574b6",
   "metadata": {},
   "source": [
    "# 6. Unsupervised Learning <a name=\"Unsupervised_Learning\"></a>"
   ]
  },
  {
   "cell_type": "markdown",
   "id": "3948115d",
   "metadata": {},
   "source": [
    "Unsupervised learning is a type of machine learning where the algorithm is trained on a dataset without any labeled output or target variable. The goal of unsupervised learning is to identify patterns, relationships, and structure within the data itself. Unsupervised learning algorithms do not have a specific objective or goal, unlike supervised learning algorithms which aim to predict a target variable based on input variables.\n",
    "\n",
    "In unsupervised learning, the algorithms use statistical techniques to identify patterns and groupings within the data, such as clustering or dimensionality reduction."
   ]
  },
  {
   "cell_type": "markdown",
   "id": "74dcf570",
   "metadata": {},
   "source": [
    "## 6.1 Data Processing <a name=\"DPU\"></a> "
   ]
  },
  {
   "cell_type": "code",
   "execution_count": 50,
   "id": "a0a5048b",
   "metadata": {
    "scrolled": true
   },
   "outputs": [],
   "source": [
    "data= pd.read_csv(\"/Users/ash/Downloads/healthcare-dataset-stroke-data 2.csv\")"
   ]
  },
  {
   "cell_type": "code",
   "execution_count": 51,
   "id": "faa21aaf",
   "metadata": {},
   "outputs": [
    {
     "data": {
      "text/html": [
       "<div>\n",
       "<style scoped>\n",
       "    .dataframe tbody tr th:only-of-type {\n",
       "        vertical-align: middle;\n",
       "    }\n",
       "\n",
       "    .dataframe tbody tr th {\n",
       "        vertical-align: top;\n",
       "    }\n",
       "\n",
       "    .dataframe thead th {\n",
       "        text-align: right;\n",
       "    }\n",
       "</style>\n",
       "<table border=\"1\" class=\"dataframe\">\n",
       "  <thead>\n",
       "    <tr style=\"text-align: right;\">\n",
       "      <th></th>\n",
       "      <th>id</th>\n",
       "      <th>gender</th>\n",
       "      <th>age</th>\n",
       "      <th>hypertension</th>\n",
       "      <th>heart_disease</th>\n",
       "      <th>ever_married</th>\n",
       "      <th>work_type</th>\n",
       "      <th>Residence_type</th>\n",
       "      <th>avg_glucose_level</th>\n",
       "      <th>bmi</th>\n",
       "      <th>smoking_status</th>\n",
       "      <th>stroke</th>\n",
       "    </tr>\n",
       "  </thead>\n",
       "  <tbody>\n",
       "    <tr>\n",
       "      <th>0</th>\n",
       "      <td>9046</td>\n",
       "      <td>Male</td>\n",
       "      <td>67.0</td>\n",
       "      <td>0</td>\n",
       "      <td>1</td>\n",
       "      <td>Yes</td>\n",
       "      <td>Private</td>\n",
       "      <td>Urban</td>\n",
       "      <td>228.69</td>\n",
       "      <td>36.6</td>\n",
       "      <td>formerly smoked</td>\n",
       "      <td>1</td>\n",
       "    </tr>\n",
       "    <tr>\n",
       "      <th>1</th>\n",
       "      <td>51676</td>\n",
       "      <td>Female</td>\n",
       "      <td>61.0</td>\n",
       "      <td>0</td>\n",
       "      <td>0</td>\n",
       "      <td>Yes</td>\n",
       "      <td>Self-employed</td>\n",
       "      <td>Rural</td>\n",
       "      <td>202.21</td>\n",
       "      <td>NaN</td>\n",
       "      <td>never smoked</td>\n",
       "      <td>1</td>\n",
       "    </tr>\n",
       "    <tr>\n",
       "      <th>2</th>\n",
       "      <td>31112</td>\n",
       "      <td>Male</td>\n",
       "      <td>80.0</td>\n",
       "      <td>0</td>\n",
       "      <td>1</td>\n",
       "      <td>Yes</td>\n",
       "      <td>Private</td>\n",
       "      <td>Rural</td>\n",
       "      <td>105.92</td>\n",
       "      <td>32.5</td>\n",
       "      <td>never smoked</td>\n",
       "      <td>1</td>\n",
       "    </tr>\n",
       "    <tr>\n",
       "      <th>3</th>\n",
       "      <td>60182</td>\n",
       "      <td>Female</td>\n",
       "      <td>49.0</td>\n",
       "      <td>0</td>\n",
       "      <td>0</td>\n",
       "      <td>Yes</td>\n",
       "      <td>Private</td>\n",
       "      <td>Urban</td>\n",
       "      <td>171.23</td>\n",
       "      <td>34.4</td>\n",
       "      <td>smokes</td>\n",
       "      <td>1</td>\n",
       "    </tr>\n",
       "    <tr>\n",
       "      <th>4</th>\n",
       "      <td>1665</td>\n",
       "      <td>Female</td>\n",
       "      <td>79.0</td>\n",
       "      <td>1</td>\n",
       "      <td>0</td>\n",
       "      <td>Yes</td>\n",
       "      <td>Self-employed</td>\n",
       "      <td>Rural</td>\n",
       "      <td>174.12</td>\n",
       "      <td>24.0</td>\n",
       "      <td>never smoked</td>\n",
       "      <td>1</td>\n",
       "    </tr>\n",
       "    <tr>\n",
       "      <th>...</th>\n",
       "      <td>...</td>\n",
       "      <td>...</td>\n",
       "      <td>...</td>\n",
       "      <td>...</td>\n",
       "      <td>...</td>\n",
       "      <td>...</td>\n",
       "      <td>...</td>\n",
       "      <td>...</td>\n",
       "      <td>...</td>\n",
       "      <td>...</td>\n",
       "      <td>...</td>\n",
       "      <td>...</td>\n",
       "    </tr>\n",
       "    <tr>\n",
       "      <th>5105</th>\n",
       "      <td>18234</td>\n",
       "      <td>Female</td>\n",
       "      <td>80.0</td>\n",
       "      <td>1</td>\n",
       "      <td>0</td>\n",
       "      <td>Yes</td>\n",
       "      <td>Private</td>\n",
       "      <td>Urban</td>\n",
       "      <td>83.75</td>\n",
       "      <td>NaN</td>\n",
       "      <td>never smoked</td>\n",
       "      <td>0</td>\n",
       "    </tr>\n",
       "    <tr>\n",
       "      <th>5106</th>\n",
       "      <td>44873</td>\n",
       "      <td>Female</td>\n",
       "      <td>81.0</td>\n",
       "      <td>0</td>\n",
       "      <td>0</td>\n",
       "      <td>Yes</td>\n",
       "      <td>Self-employed</td>\n",
       "      <td>Urban</td>\n",
       "      <td>125.20</td>\n",
       "      <td>40.0</td>\n",
       "      <td>never smoked</td>\n",
       "      <td>0</td>\n",
       "    </tr>\n",
       "    <tr>\n",
       "      <th>5107</th>\n",
       "      <td>19723</td>\n",
       "      <td>Female</td>\n",
       "      <td>35.0</td>\n",
       "      <td>0</td>\n",
       "      <td>0</td>\n",
       "      <td>Yes</td>\n",
       "      <td>Self-employed</td>\n",
       "      <td>Rural</td>\n",
       "      <td>82.99</td>\n",
       "      <td>30.6</td>\n",
       "      <td>never smoked</td>\n",
       "      <td>0</td>\n",
       "    </tr>\n",
       "    <tr>\n",
       "      <th>5108</th>\n",
       "      <td>37544</td>\n",
       "      <td>Male</td>\n",
       "      <td>51.0</td>\n",
       "      <td>0</td>\n",
       "      <td>0</td>\n",
       "      <td>Yes</td>\n",
       "      <td>Private</td>\n",
       "      <td>Rural</td>\n",
       "      <td>166.29</td>\n",
       "      <td>25.6</td>\n",
       "      <td>formerly smoked</td>\n",
       "      <td>0</td>\n",
       "    </tr>\n",
       "    <tr>\n",
       "      <th>5109</th>\n",
       "      <td>44679</td>\n",
       "      <td>Female</td>\n",
       "      <td>44.0</td>\n",
       "      <td>0</td>\n",
       "      <td>0</td>\n",
       "      <td>Yes</td>\n",
       "      <td>Govt_job</td>\n",
       "      <td>Urban</td>\n",
       "      <td>85.28</td>\n",
       "      <td>26.2</td>\n",
       "      <td>Unknown</td>\n",
       "      <td>0</td>\n",
       "    </tr>\n",
       "  </tbody>\n",
       "</table>\n",
       "<p>5110 rows × 12 columns</p>\n",
       "</div>"
      ],
      "text/plain": [
       "         id  gender   age  hypertension  heart_disease ever_married  \\\n",
       "0      9046    Male  67.0             0              1          Yes   \n",
       "1     51676  Female  61.0             0              0          Yes   \n",
       "2     31112    Male  80.0             0              1          Yes   \n",
       "3     60182  Female  49.0             0              0          Yes   \n",
       "4      1665  Female  79.0             1              0          Yes   \n",
       "...     ...     ...   ...           ...            ...          ...   \n",
       "5105  18234  Female  80.0             1              0          Yes   \n",
       "5106  44873  Female  81.0             0              0          Yes   \n",
       "5107  19723  Female  35.0             0              0          Yes   \n",
       "5108  37544    Male  51.0             0              0          Yes   \n",
       "5109  44679  Female  44.0             0              0          Yes   \n",
       "\n",
       "          work_type Residence_type  avg_glucose_level   bmi   smoking_status  \\\n",
       "0           Private          Urban             228.69  36.6  formerly smoked   \n",
       "1     Self-employed          Rural             202.21   NaN     never smoked   \n",
       "2           Private          Rural             105.92  32.5     never smoked   \n",
       "3           Private          Urban             171.23  34.4           smokes   \n",
       "4     Self-employed          Rural             174.12  24.0     never smoked   \n",
       "...             ...            ...                ...   ...              ...   \n",
       "5105        Private          Urban              83.75   NaN     never smoked   \n",
       "5106  Self-employed          Urban             125.20  40.0     never smoked   \n",
       "5107  Self-employed          Rural              82.99  30.6     never smoked   \n",
       "5108        Private          Rural             166.29  25.6  formerly smoked   \n",
       "5109       Govt_job          Urban              85.28  26.2          Unknown   \n",
       "\n",
       "      stroke  \n",
       "0          1  \n",
       "1          1  \n",
       "2          1  \n",
       "3          1  \n",
       "4          1  \n",
       "...      ...  \n",
       "5105       0  \n",
       "5106       0  \n",
       "5107       0  \n",
       "5108       0  \n",
       "5109       0  \n",
       "\n",
       "[5110 rows x 12 columns]"
      ]
     },
     "execution_count": 51,
     "metadata": {},
     "output_type": "execute_result"
    }
   ],
   "source": [
    "data"
   ]
  },
  {
   "cell_type": "code",
   "execution_count": 52,
   "id": "1dda4969",
   "metadata": {},
   "outputs": [
    {
     "name": "stdout",
     "output_type": "stream",
     "text": [
      "<class 'pandas.core.frame.DataFrame'>\n",
      "RangeIndex: 5110 entries, 0 to 5109\n",
      "Data columns (total 12 columns):\n",
      " #   Column             Non-Null Count  Dtype  \n",
      "---  ------             --------------  -----  \n",
      " 0   id                 5110 non-null   int64  \n",
      " 1   gender             5110 non-null   object \n",
      " 2   age                5110 non-null   float64\n",
      " 3   hypertension       5110 non-null   int64  \n",
      " 4   heart_disease      5110 non-null   int64  \n",
      " 5   ever_married       5110 non-null   object \n",
      " 6   work_type          5110 non-null   object \n",
      " 7   Residence_type     5110 non-null   object \n",
      " 8   avg_glucose_level  5110 non-null   float64\n",
      " 9   bmi                4909 non-null   float64\n",
      " 10  smoking_status     5110 non-null   object \n",
      " 11  stroke             5110 non-null   int64  \n",
      "dtypes: float64(3), int64(4), object(5)\n",
      "memory usage: 479.2+ KB\n"
     ]
    }
   ],
   "source": [
    "data.info()"
   ]
  },
  {
   "cell_type": "code",
   "execution_count": 53,
   "id": "fbbfa529",
   "metadata": {},
   "outputs": [],
   "source": [
    "mean_value = data['bmi'].mean()\n",
    "data['bmi'].fillna(value = mean_value, inplace = True) "
   ]
  },
  {
   "cell_type": "code",
   "execution_count": 54,
   "id": "eb808415",
   "metadata": {},
   "outputs": [],
   "source": [
    "data['age'] = (data['age'].apply(np.ceil)).astype('int64')"
   ]
  },
  {
   "cell_type": "code",
   "execution_count": 55,
   "id": "f651dbff",
   "metadata": {},
   "outputs": [],
   "source": [
    "data['gender'] = data['gender'].apply(lambda x : 1 if x == 'Male' else 0) "
   ]
  },
  {
   "cell_type": "code",
   "execution_count": 56,
   "id": "b8ed4490",
   "metadata": {},
   "outputs": [],
   "source": [
    "data.drop(data[data.smoking_status == 'Unknown'].index, inplace = True)"
   ]
  },
  {
   "cell_type": "code",
   "execution_count": 57,
   "id": "9529f06c",
   "metadata": {},
   "outputs": [],
   "source": [
    "from sklearn.preprocessing import LabelEncoder\n",
    "le = LabelEncoder() \n",
    "data['gender'] = data[['gender']].apply(le.fit_transform)\n",
    "data['ever_married'] = data[['ever_married']].apply(le.fit_transform)\n",
    "data ['Residence_type'] = data[['Residence_type']].apply(le.fit_transform)\n",
    "data['work_type'] = data[['work_type']].apply(le.fit_transform)\n",
    "data ['smoking_status'] = data[['smoking_status']].apply(le.fit_transform)"
   ]
  },
  {
   "cell_type": "code",
   "execution_count": 58,
   "id": "9a0fc3d5",
   "metadata": {},
   "outputs": [
    {
     "data": {
      "text/html": [
       "<div>\n",
       "<style scoped>\n",
       "    .dataframe tbody tr th:only-of-type {\n",
       "        vertical-align: middle;\n",
       "    }\n",
       "\n",
       "    .dataframe tbody tr th {\n",
       "        vertical-align: top;\n",
       "    }\n",
       "\n",
       "    .dataframe thead th {\n",
       "        text-align: right;\n",
       "    }\n",
       "</style>\n",
       "<table border=\"1\" class=\"dataframe\">\n",
       "  <thead>\n",
       "    <tr style=\"text-align: right;\">\n",
       "      <th></th>\n",
       "      <th>id</th>\n",
       "      <th>gender</th>\n",
       "      <th>age</th>\n",
       "      <th>hypertension</th>\n",
       "      <th>heart_disease</th>\n",
       "      <th>ever_married</th>\n",
       "      <th>work_type</th>\n",
       "      <th>Residence_type</th>\n",
       "      <th>avg_glucose_level</th>\n",
       "      <th>bmi</th>\n",
       "      <th>smoking_status</th>\n",
       "      <th>stroke</th>\n",
       "    </tr>\n",
       "  </thead>\n",
       "  <tbody>\n",
       "    <tr>\n",
       "      <th>0</th>\n",
       "      <td>9046</td>\n",
       "      <td>1</td>\n",
       "      <td>67</td>\n",
       "      <td>0</td>\n",
       "      <td>1</td>\n",
       "      <td>1</td>\n",
       "      <td>2</td>\n",
       "      <td>1</td>\n",
       "      <td>228.69</td>\n",
       "      <td>36.600000</td>\n",
       "      <td>0</td>\n",
       "      <td>1</td>\n",
       "    </tr>\n",
       "    <tr>\n",
       "      <th>1</th>\n",
       "      <td>51676</td>\n",
       "      <td>0</td>\n",
       "      <td>61</td>\n",
       "      <td>0</td>\n",
       "      <td>0</td>\n",
       "      <td>1</td>\n",
       "      <td>3</td>\n",
       "      <td>0</td>\n",
       "      <td>202.21</td>\n",
       "      <td>28.893237</td>\n",
       "      <td>1</td>\n",
       "      <td>1</td>\n",
       "    </tr>\n",
       "    <tr>\n",
       "      <th>2</th>\n",
       "      <td>31112</td>\n",
       "      <td>1</td>\n",
       "      <td>80</td>\n",
       "      <td>0</td>\n",
       "      <td>1</td>\n",
       "      <td>1</td>\n",
       "      <td>2</td>\n",
       "      <td>0</td>\n",
       "      <td>105.92</td>\n",
       "      <td>32.500000</td>\n",
       "      <td>1</td>\n",
       "      <td>1</td>\n",
       "    </tr>\n",
       "    <tr>\n",
       "      <th>3</th>\n",
       "      <td>60182</td>\n",
       "      <td>0</td>\n",
       "      <td>49</td>\n",
       "      <td>0</td>\n",
       "      <td>0</td>\n",
       "      <td>1</td>\n",
       "      <td>2</td>\n",
       "      <td>1</td>\n",
       "      <td>171.23</td>\n",
       "      <td>34.400000</td>\n",
       "      <td>2</td>\n",
       "      <td>1</td>\n",
       "    </tr>\n",
       "    <tr>\n",
       "      <th>4</th>\n",
       "      <td>1665</td>\n",
       "      <td>0</td>\n",
       "      <td>79</td>\n",
       "      <td>1</td>\n",
       "      <td>0</td>\n",
       "      <td>1</td>\n",
       "      <td>3</td>\n",
       "      <td>0</td>\n",
       "      <td>174.12</td>\n",
       "      <td>24.000000</td>\n",
       "      <td>1</td>\n",
       "      <td>1</td>\n",
       "    </tr>\n",
       "    <tr>\n",
       "      <th>...</th>\n",
       "      <td>...</td>\n",
       "      <td>...</td>\n",
       "      <td>...</td>\n",
       "      <td>...</td>\n",
       "      <td>...</td>\n",
       "      <td>...</td>\n",
       "      <td>...</td>\n",
       "      <td>...</td>\n",
       "      <td>...</td>\n",
       "      <td>...</td>\n",
       "      <td>...</td>\n",
       "      <td>...</td>\n",
       "    </tr>\n",
       "    <tr>\n",
       "      <th>5102</th>\n",
       "      <td>45010</td>\n",
       "      <td>0</td>\n",
       "      <td>57</td>\n",
       "      <td>0</td>\n",
       "      <td>0</td>\n",
       "      <td>1</td>\n",
       "      <td>2</td>\n",
       "      <td>0</td>\n",
       "      <td>77.93</td>\n",
       "      <td>21.700000</td>\n",
       "      <td>1</td>\n",
       "      <td>0</td>\n",
       "    </tr>\n",
       "    <tr>\n",
       "      <th>5105</th>\n",
       "      <td>18234</td>\n",
       "      <td>0</td>\n",
       "      <td>80</td>\n",
       "      <td>1</td>\n",
       "      <td>0</td>\n",
       "      <td>1</td>\n",
       "      <td>2</td>\n",
       "      <td>1</td>\n",
       "      <td>83.75</td>\n",
       "      <td>28.893237</td>\n",
       "      <td>1</td>\n",
       "      <td>0</td>\n",
       "    </tr>\n",
       "    <tr>\n",
       "      <th>5106</th>\n",
       "      <td>44873</td>\n",
       "      <td>0</td>\n",
       "      <td>81</td>\n",
       "      <td>0</td>\n",
       "      <td>0</td>\n",
       "      <td>1</td>\n",
       "      <td>3</td>\n",
       "      <td>1</td>\n",
       "      <td>125.20</td>\n",
       "      <td>40.000000</td>\n",
       "      <td>1</td>\n",
       "      <td>0</td>\n",
       "    </tr>\n",
       "    <tr>\n",
       "      <th>5107</th>\n",
       "      <td>19723</td>\n",
       "      <td>0</td>\n",
       "      <td>35</td>\n",
       "      <td>0</td>\n",
       "      <td>0</td>\n",
       "      <td>1</td>\n",
       "      <td>3</td>\n",
       "      <td>0</td>\n",
       "      <td>82.99</td>\n",
       "      <td>30.600000</td>\n",
       "      <td>1</td>\n",
       "      <td>0</td>\n",
       "    </tr>\n",
       "    <tr>\n",
       "      <th>5108</th>\n",
       "      <td>37544</td>\n",
       "      <td>1</td>\n",
       "      <td>51</td>\n",
       "      <td>0</td>\n",
       "      <td>0</td>\n",
       "      <td>1</td>\n",
       "      <td>2</td>\n",
       "      <td>0</td>\n",
       "      <td>166.29</td>\n",
       "      <td>25.600000</td>\n",
       "      <td>0</td>\n",
       "      <td>0</td>\n",
       "    </tr>\n",
       "  </tbody>\n",
       "</table>\n",
       "<p>3566 rows × 12 columns</p>\n",
       "</div>"
      ],
      "text/plain": [
       "         id  gender  age  hypertension  heart_disease  ever_married  \\\n",
       "0      9046       1   67             0              1             1   \n",
       "1     51676       0   61             0              0             1   \n",
       "2     31112       1   80             0              1             1   \n",
       "3     60182       0   49             0              0             1   \n",
       "4      1665       0   79             1              0             1   \n",
       "...     ...     ...  ...           ...            ...           ...   \n",
       "5102  45010       0   57             0              0             1   \n",
       "5105  18234       0   80             1              0             1   \n",
       "5106  44873       0   81             0              0             1   \n",
       "5107  19723       0   35             0              0             1   \n",
       "5108  37544       1   51             0              0             1   \n",
       "\n",
       "      work_type  Residence_type  avg_glucose_level        bmi  smoking_status  \\\n",
       "0             2               1             228.69  36.600000               0   \n",
       "1             3               0             202.21  28.893237               1   \n",
       "2             2               0             105.92  32.500000               1   \n",
       "3             2               1             171.23  34.400000               2   \n",
       "4             3               0             174.12  24.000000               1   \n",
       "...         ...             ...                ...        ...             ...   \n",
       "5102          2               0              77.93  21.700000               1   \n",
       "5105          2               1              83.75  28.893237               1   \n",
       "5106          3               1             125.20  40.000000               1   \n",
       "5107          3               0              82.99  30.600000               1   \n",
       "5108          2               0             166.29  25.600000               0   \n",
       "\n",
       "      stroke  \n",
       "0          1  \n",
       "1          1  \n",
       "2          1  \n",
       "3          1  \n",
       "4          1  \n",
       "...      ...  \n",
       "5102       0  \n",
       "5105       0  \n",
       "5106       0  \n",
       "5107       0  \n",
       "5108       0  \n",
       "\n",
       "[3566 rows x 12 columns]"
      ]
     },
     "execution_count": 58,
     "metadata": {},
     "output_type": "execute_result"
    }
   ],
   "source": [
    "data"
   ]
  },
  {
   "cell_type": "markdown",
   "id": "47e03491",
   "metadata": {},
   "source": [
    "Here as the in the dataset there was a column of work type where one of the attribute was children we here find out the number of thm and remove them as they are not important for the analysis"
   ]
  },
  {
   "cell_type": "code",
   "execution_count": 59,
   "id": "c5cbaea9",
   "metadata": {},
   "outputs": [
    {
     "name": "stdout",
     "output_type": "stream",
     "text": [
      "69\n"
     ]
    },
    {
     "data": {
      "text/html": [
       "<div>\n",
       "<style scoped>\n",
       "    .dataframe tbody tr th:only-of-type {\n",
       "        vertical-align: middle;\n",
       "    }\n",
       "\n",
       "    .dataframe tbody tr th {\n",
       "        vertical-align: top;\n",
       "    }\n",
       "\n",
       "    .dataframe thead th {\n",
       "        text-align: right;\n",
       "    }\n",
       "</style>\n",
       "<table border=\"1\" class=\"dataframe\">\n",
       "  <thead>\n",
       "    <tr style=\"text-align: right;\">\n",
       "      <th></th>\n",
       "      <th>id</th>\n",
       "      <th>gender</th>\n",
       "      <th>age</th>\n",
       "      <th>hypertension</th>\n",
       "      <th>heart_disease</th>\n",
       "      <th>ever_married</th>\n",
       "      <th>work_type</th>\n",
       "      <th>Residence_type</th>\n",
       "      <th>avg_glucose_level</th>\n",
       "      <th>bmi</th>\n",
       "      <th>smoking_status</th>\n",
       "      <th>stroke</th>\n",
       "    </tr>\n",
       "  </thead>\n",
       "  <tbody>\n",
       "    <tr>\n",
       "      <th>count</th>\n",
       "      <td>69.000000</td>\n",
       "      <td>69.000000</td>\n",
       "      <td>69.000000</td>\n",
       "      <td>69.0</td>\n",
       "      <td>69.0</td>\n",
       "      <td>69.0</td>\n",
       "      <td>69.0</td>\n",
       "      <td>69.000000</td>\n",
       "      <td>69.000000</td>\n",
       "      <td>69.000000</td>\n",
       "      <td>69.000000</td>\n",
       "      <td>69.0</td>\n",
       "    </tr>\n",
       "    <tr>\n",
       "      <th>mean</th>\n",
       "      <td>39029.478261</td>\n",
       "      <td>0.507246</td>\n",
       "      <td>12.347826</td>\n",
       "      <td>0.0</td>\n",
       "      <td>0.0</td>\n",
       "      <td>0.0</td>\n",
       "      <td>4.0</td>\n",
       "      <td>0.521739</td>\n",
       "      <td>101.737391</td>\n",
       "      <td>23.111496</td>\n",
       "      <td>0.840580</td>\n",
       "      <td>0.0</td>\n",
       "    </tr>\n",
       "    <tr>\n",
       "      <th>std</th>\n",
       "      <td>19473.985582</td>\n",
       "      <td>0.503610</td>\n",
       "      <td>1.634428</td>\n",
       "      <td>0.0</td>\n",
       "      <td>0.0</td>\n",
       "      <td>0.0</td>\n",
       "      <td>0.0</td>\n",
       "      <td>0.503187</td>\n",
       "      <td>34.917983</td>\n",
       "      <td>5.737176</td>\n",
       "      <td>0.441361</td>\n",
       "      <td>0.0</td>\n",
       "    </tr>\n",
       "    <tr>\n",
       "      <th>min</th>\n",
       "      <td>4833.000000</td>\n",
       "      <td>0.000000</td>\n",
       "      <td>10.000000</td>\n",
       "      <td>0.0</td>\n",
       "      <td>0.0</td>\n",
       "      <td>0.0</td>\n",
       "      <td>4.0</td>\n",
       "      <td>0.000000</td>\n",
       "      <td>57.280000</td>\n",
       "      <td>15.300000</td>\n",
       "      <td>0.000000</td>\n",
       "      <td>0.0</td>\n",
       "    </tr>\n",
       "    <tr>\n",
       "      <th>25%</th>\n",
       "      <td>21209.000000</td>\n",
       "      <td>0.000000</td>\n",
       "      <td>11.000000</td>\n",
       "      <td>0.0</td>\n",
       "      <td>0.0</td>\n",
       "      <td>0.0</td>\n",
       "      <td>4.0</td>\n",
       "      <td>0.000000</td>\n",
       "      <td>81.310000</td>\n",
       "      <td>18.800000</td>\n",
       "      <td>1.000000</td>\n",
       "      <td>0.0</td>\n",
       "    </tr>\n",
       "    <tr>\n",
       "      <th>50%</th>\n",
       "      <td>40390.000000</td>\n",
       "      <td>1.000000</td>\n",
       "      <td>12.000000</td>\n",
       "      <td>0.0</td>\n",
       "      <td>0.0</td>\n",
       "      <td>0.0</td>\n",
       "      <td>4.0</td>\n",
       "      <td>1.000000</td>\n",
       "      <td>92.650000</td>\n",
       "      <td>21.600000</td>\n",
       "      <td>1.000000</td>\n",
       "      <td>0.0</td>\n",
       "    </tr>\n",
       "    <tr>\n",
       "      <th>75%</th>\n",
       "      <td>54253.000000</td>\n",
       "      <td>1.000000</td>\n",
       "      <td>13.000000</td>\n",
       "      <td>0.0</td>\n",
       "      <td>0.0</td>\n",
       "      <td>0.0</td>\n",
       "      <td>4.0</td>\n",
       "      <td>1.000000</td>\n",
       "      <td>116.250000</td>\n",
       "      <td>25.300000</td>\n",
       "      <td>1.000000</td>\n",
       "      <td>0.0</td>\n",
       "    </tr>\n",
       "    <tr>\n",
       "      <th>max</th>\n",
       "      <td>71917.000000</td>\n",
       "      <td>1.000000</td>\n",
       "      <td>16.000000</td>\n",
       "      <td>0.0</td>\n",
       "      <td>0.0</td>\n",
       "      <td>0.0</td>\n",
       "      <td>4.0</td>\n",
       "      <td>1.000000</td>\n",
       "      <td>213.870000</td>\n",
       "      <td>41.700000</td>\n",
       "      <td>2.000000</td>\n",
       "      <td>0.0</td>\n",
       "    </tr>\n",
       "  </tbody>\n",
       "</table>\n",
       "</div>"
      ],
      "text/plain": [
       "                 id     gender        age  hypertension  heart_disease  \\\n",
       "count     69.000000  69.000000  69.000000          69.0           69.0   \n",
       "mean   39029.478261   0.507246  12.347826           0.0            0.0   \n",
       "std    19473.985582   0.503610   1.634428           0.0            0.0   \n",
       "min     4833.000000   0.000000  10.000000           0.0            0.0   \n",
       "25%    21209.000000   0.000000  11.000000           0.0            0.0   \n",
       "50%    40390.000000   1.000000  12.000000           0.0            0.0   \n",
       "75%    54253.000000   1.000000  13.000000           0.0            0.0   \n",
       "max    71917.000000   1.000000  16.000000           0.0            0.0   \n",
       "\n",
       "       ever_married  work_type  Residence_type  avg_glucose_level        bmi  \\\n",
       "count          69.0       69.0       69.000000          69.000000  69.000000   \n",
       "mean            0.0        4.0        0.521739         101.737391  23.111496   \n",
       "std             0.0        0.0        0.503187          34.917983   5.737176   \n",
       "min             0.0        4.0        0.000000          57.280000  15.300000   \n",
       "25%             0.0        4.0        0.000000          81.310000  18.800000   \n",
       "50%             0.0        4.0        1.000000          92.650000  21.600000   \n",
       "75%             0.0        4.0        1.000000         116.250000  25.300000   \n",
       "max             0.0        4.0        1.000000         213.870000  41.700000   \n",
       "\n",
       "       smoking_status  stroke  \n",
       "count       69.000000    69.0  \n",
       "mean         0.840580     0.0  \n",
       "std          0.441361     0.0  \n",
       "min          0.000000     0.0  \n",
       "25%          1.000000     0.0  \n",
       "50%          1.000000     0.0  \n",
       "75%          1.000000     0.0  \n",
       "max          2.000000     0.0  "
      ]
     },
     "execution_count": 59,
     "metadata": {},
     "output_type": "execute_result"
    }
   ],
   "source": [
    "#Extract the data containing children information\n",
    "nos_of_children = data[data['work_type'] == 4]\n",
    "nos_of_children_count = nos_of_children['work_type'].count()\n",
    "print (nos_of_children_count)\n",
    "\n",
    "nos_of_children.describe()"
   ]
  },
  {
   "cell_type": "code",
   "execution_count": 60,
   "id": "0cab071c",
   "metadata": {},
   "outputs": [],
   "source": [
    "data.drop(data[data.work_type == 4].index, inplace = True) #delete the records"
   ]
  },
  {
   "cell_type": "markdown",
   "id": "2ddef6ff",
   "metadata": {},
   "source": [
    "There were 69 children in total in the dataset, in age range 10-16. We have now also removed them from the dataset.\n"
   ]
  },
  {
   "cell_type": "code",
   "execution_count": 61,
   "id": "c03e8221",
   "metadata": {},
   "outputs": [
    {
     "name": "stdout",
     "output_type": "stream",
     "text": [
      "number with stroke:  202\n",
      "number without stroke:  3295\n"
     ]
    },
    {
     "data": {
      "image/png": "[encoded data removed]",
      "text/plain": [
       "<Figure size 432x288 with 1 Axes>"
      ]
     },
     "metadata": {
      "needs_background": "light"
     },
     "output_type": "display_data"
    }
   ],
   "source": [
    "#split the data into those with stroke and without stroke\n",
    "no_stroke = data[data['stroke'] == 0] #extract the information of those without stroke\n",
    "no_stroke_extract = no_stroke['stroke'] #extract one column \n",
    "\n",
    "yes_stroke = data[data['stroke'] == 1] #extract the information of those with stroke\n",
    "yes_stroke_extract = yes_stroke['stroke'] #extract one column\n",
    "\n",
    "count = [yes_stroke_extract.count(), no_stroke_extract.count()]\n",
    "labels = ('stoke', 'no stroke')\n",
    "\n",
    "plt.bar(labels, count)\n",
    "print (\"number with stroke: \",yes_stroke_extract.count())\n",
    "print (\"number without stroke: \",no_stroke_extract.count())"
   ]
  },
  {
   "cell_type": "markdown",
   "id": "834877a2",
   "metadata": {},
   "source": [
    "Here I just extracted the stroke and no stroke values from the dataset and made a bargraph representing both."
   ]
  },
  {
   "cell_type": "code",
   "execution_count": 62,
   "id": "1a7f0524",
   "metadata": {},
   "outputs": [],
   "source": [
    "#undersampling\n",
    "class_no_stroke_extract = no_stroke.sample(800) \n",
    "sampled_data = pd.concat([class_no_stroke_extract, yes_stroke], axis=0)\n",
    "\n",
    "#shuffle the data\n",
    "sampled_data = sampled_data.sample(frac = 1)"
   ]
  },
  {
   "cell_type": "code",
   "execution_count": 63,
   "id": "8ac77ee1",
   "metadata": {},
   "outputs": [
    {
     "data": {
      "image/png": "[encoded data removed]",
      "text/plain": [
       "<Figure size 432x288 with 1 Axes>"
      ]
     },
     "metadata": {
      "needs_background": "light"
     },
     "output_type": "display_data"
    }
   ],
   "source": [
    "# visualize the output\n",
    "g = sns.countplot(sampled_data['stroke'])\n",
    "g.set_xticklabels(['no stroke','stroke'])\n",
    "plt.show()"
   ]
  },
  {
   "cell_type": "code",
   "execution_count": 64,
   "id": "a346d08d",
   "metadata": {},
   "outputs": [],
   "source": [
    "#The selected features based on the feature analysis and visualizations\n",
    "X = sampled_data[['age','bmi', 'avg_glucose_level']] \n",
    "Y = sampled_data['stroke']"
   ]
  },
  {
   "cell_type": "code",
   "execution_count": 65,
   "id": "32219f12",
   "metadata": {},
   "outputs": [],
   "source": [
    "from sklearn.preprocessing import StandardScaler\n",
    "scaler = StandardScaler()\n",
    "scaler.fit(X)\n",
    "X_scaled = scaler.transform(X)"
   ]
  },
  {
   "cell_type": "code",
   "execution_count": 66,
   "id": "6f646245",
   "metadata": {},
   "outputs": [
    {
     "data": {
      "text/plain": [
       "array([[ 0.15976011,  2.43160649, -0.2879666 ],\n",
       "       [ 0.83961478, -0.39698845, -0.67829159],\n",
       "       [ 1.36257991, -0.75777862,  0.13360796],\n",
       "       ...,\n",
       "       [ 0.42124267, -0.19592197,  1.7827605 ],\n",
       "       [-1.14765272,  0.23800225,  0.5791602 ],\n",
       "       [ 0.42124267,  1.30594116,  1.43429817]])"
      ]
     },
     "execution_count": 66,
     "metadata": {},
     "output_type": "execute_result"
    }
   ],
   "source": [
    "X_scaled"
   ]
  },
  {
   "cell_type": "code",
   "execution_count": 67,
   "id": "0a8a51be",
   "metadata": {},
   "outputs": [
    {
     "data": {
      "text/html": [
       "<div>\n",
       "<style scoped>\n",
       "    .dataframe tbody tr th:only-of-type {\n",
       "        vertical-align: middle;\n",
       "    }\n",
       "\n",
       "    .dataframe tbody tr th {\n",
       "        vertical-align: top;\n",
       "    }\n",
       "\n",
       "    .dataframe thead th {\n",
       "        text-align: right;\n",
       "    }\n",
       "</style>\n",
       "<table border=\"1\" class=\"dataframe\">\n",
       "  <thead>\n",
       "    <tr style=\"text-align: right;\">\n",
       "      <th></th>\n",
       "      <th>age</th>\n",
       "      <th>bmi</th>\n",
       "      <th>avg_glucose_level</th>\n",
       "    </tr>\n",
       "  </thead>\n",
       "  <tbody>\n",
       "    <tr>\n",
       "      <th>count</th>\n",
       "      <td>1002.000000</td>\n",
       "      <td>1002.000000</td>\n",
       "      <td>1002.000000</td>\n",
       "    </tr>\n",
       "    <tr>\n",
       "      <th>mean</th>\n",
       "      <td>51.945110</td>\n",
       "      <td>30.250826</td>\n",
       "      <td>112.331936</td>\n",
       "    </tr>\n",
       "    <tr>\n",
       "      <th>std</th>\n",
       "      <td>19.131283</td>\n",
       "      <td>6.932696</td>\n",
       "      <td>50.906087</td>\n",
       "    </tr>\n",
       "    <tr>\n",
       "      <th>min</th>\n",
       "      <td>13.000000</td>\n",
       "      <td>14.100000</td>\n",
       "      <td>55.120000</td>\n",
       "    </tr>\n",
       "    <tr>\n",
       "      <th>25%</th>\n",
       "      <td>36.000000</td>\n",
       "      <td>25.500000</td>\n",
       "      <td>78.072500</td>\n",
       "    </tr>\n",
       "    <tr>\n",
       "      <th>50%</th>\n",
       "      <td>53.000000</td>\n",
       "      <td>28.893237</td>\n",
       "      <td>93.890000</td>\n",
       "    </tr>\n",
       "    <tr>\n",
       "      <th>75%</th>\n",
       "      <td>68.000000</td>\n",
       "      <td>33.700000</td>\n",
       "      <td>119.985000</td>\n",
       "    </tr>\n",
       "    <tr>\n",
       "      <th>max</th>\n",
       "      <td>82.000000</td>\n",
       "      <td>71.900000</td>\n",
       "      <td>271.740000</td>\n",
       "    </tr>\n",
       "  </tbody>\n",
       "</table>\n",
       "</div>"
      ],
      "text/plain": [
       "               age          bmi  avg_glucose_level\n",
       "count  1002.000000  1002.000000        1002.000000\n",
       "mean     51.945110    30.250826         112.331936\n",
       "std      19.131283     6.932696          50.906087\n",
       "min      13.000000    14.100000          55.120000\n",
       "25%      36.000000    25.500000          78.072500\n",
       "50%      53.000000    28.893237          93.890000\n",
       "75%      68.000000    33.700000         119.985000\n",
       "max      82.000000    71.900000         271.740000"
      ]
     },
     "execution_count": 67,
     "metadata": {},
     "output_type": "execute_result"
    }
   ],
   "source": [
    "X.describe()"
   ]
  },
  {
   "cell_type": "markdown",
   "id": "fb79aa3a",
   "metadata": {},
   "source": [
    "## 6.2 PCA <a name=\"PCA\"></a>"
   ]
  },
  {
   "cell_type": "markdown",
   "id": "37c4dd22",
   "metadata": {},
   "source": [
    "Principal Component Analysis (PCA): PCA is a technique for reducing the dimensionality of high-dimensional datasets.\n",
    "In the stroke prediction dataset, we can use PCA to identify the most important features that contribute to the risk \n",
    "of stroke.\n"
   ]
  },
  {
   "cell_type": "code",
   "execution_count": 68,
   "id": "62bcee0a",
   "metadata": {},
   "outputs": [
    {
     "data": {
      "image/png": "[encoded data removed]",
      "text/plain": [
       "<Figure size 432x288 with 1 Axes>"
      ]
     },
     "metadata": {
      "needs_background": "light"
     },
     "output_type": "display_data"
    }
   ],
   "source": [
    "from sklearn.decomposition import PCA\n",
    "# Apply PCA\n",
    "pca = PCA(n_components=2)\n",
    "X_pca = pca.fit_transform(X_scaled)\n",
    "\n",
    "# Visualize the data in two dimensions\n",
    "plt.scatter(X_pca[:, 0], X_pca[:, 1], c= Y, cmap=\"viridis\")\n",
    "plt.xlabel(\"PC1\")\n",
    "plt.ylabel(\"PC2\")\n",
    "plt.show()\n"
   ]
  },
  {
   "cell_type": "markdown",
   "id": "b903cae3",
   "metadata": {},
   "source": [
    "In this code, we first select a subset of features that we believe are important for predicting stroke risk.\n",
    "We then standardize the features using StandardScaler() to ensure that all features are on the same scale. \n",
    "We apply PCA to the standardized features using PCA(n_components=2), which projects the data onto a two-dimensional\n",
    "subspace. We then visualize the data in two dimensions using a scatter plot, with the color of each point indicating\n",
    "whether the patient had a stroke or not."
   ]
  },
  {
   "cell_type": "code",
   "execution_count": 69,
   "id": "4d61dce9",
   "metadata": {},
   "outputs": [
    {
     "name": "stdout",
     "output_type": "stream",
     "text": [
      "[0.44167714 0.77121881]\n"
     ]
    }
   ],
   "source": [
    "from sklearn.decomposition import PCA\n",
    "# Calculate the explained variance ratio and cumulative explained variance\n",
    "explained_variance_ratio = pca.explained_variance_ratio_\n",
    "cumulative_explained_variance = np.cumsum(explained_variance_ratio)\n",
    "print(cumulative_explained_variance)\n",
    "\n"
   ]
  },
  {
   "cell_type": "markdown",
   "id": "a692d52e",
   "metadata": {},
   "source": [
    "The first principal component explains 45% of the total variance in the original dataset.\n",
    "The first two principal components together explain 78% of the total variance in the original dataset.\n",
    "The remaining variance, which is not captured by these two principal components, can be thought of as noise or unexplained variation in the original dataset"
   ]
  },
  {
   "cell_type": "markdown",
   "id": "b76927ec",
   "metadata": {},
   "source": [
    "## 6.3 K-Means Clustering <a name=\"KMC\"></a>"
   ]
  },
  {
   "cell_type": "markdown",
   "id": "4161e1b0",
   "metadata": {},
   "source": [
    "K-Means Clustering: K-means clustering is a technique for grouping data points into a fixed number of clusters based \n",
    "on their similarity. In the stroke prediction dataset, we can use K-means clustering to identify groups of patients \n",
    "who have similar risk factors for stroke.\n",
    "\n",
    "\n"
   ]
  },
  {
   "cell_type": "code",
   "execution_count": 70,
   "id": "9f95f674",
   "metadata": {},
   "outputs": [
    {
     "data": {
      "image/png": "[encoded data removed]",
      "text/plain": [
       "<Figure size 432x288 with 1 Axes>"
      ]
     },
     "metadata": {
      "needs_background": "light"
     },
     "output_type": "display_data"
    }
   ],
   "source": [
    "from sklearn.cluster import KMeans\n",
    "\n",
    "# Apply K-means clustering\n",
    "kmeans = KMeans(n_clusters=2, random_state=0)\n",
    "labels = kmeans.fit_predict(X_scaled)\n",
    "\n",
    "# Visualize the clusters\n",
    "plt.scatter(X_scaled[:, 1], X_scaled[:, 2], c=labels, cmap=\"viridis\")\n",
    "plt.xlabel(\"BMI\")\n",
    "plt.ylabel(\"Avg Glucose Level\")\n",
    "plt.show()"
   ]
  },
  {
   "cell_type": "markdown",
   "id": "03e709ca",
   "metadata": {},
   "source": [
    "In this code, we first select the same subset of features as in the PCA example, and standardize the features using \n",
    "StandardScaler(). We apply K-means clustering to the standardized features using KMeans(n_clusters=2), which groups \n",
    "the data points into two clusters based on their similarity. We then visualize the clusters in a scatter plot, with \n",
    "the color of each point indicating which cluster it belongs to."
   ]
  },
  {
   "cell_type": "code",
   "execution_count": 71,
   "id": "a3205244",
   "metadata": {},
   "outputs": [
    {
     "name": "stdout",
     "output_type": "stream",
     "text": [
      "Silhouette score: 0.4046284741553633\n"
     ]
    }
   ],
   "source": [
    "from sklearn.metrics import silhouette_score\n",
    "\n",
    "# Calculate the silhouette score\n",
    "silhouette = silhouette_score(X_scaled, labels)\n",
    "print(\"Silhouette score:\", silhouette)"
   ]
  },
  {
   "cell_type": "markdown",
   "id": "1ee8c68b",
   "metadata": {},
   "source": [
    "A Silhouette score of 0.40 indicates that the clustering is reasonable and that the objects are relatively well matched to their own cluster compared to neighboring clusters. "
   ]
  },
  {
   "cell_type": "markdown",
   "id": "bd5fa26f",
   "metadata": {},
   "source": [
    "## 6.4 DB SCAN <a name=\"DBS\"></a>"
   ]
  },
  {
   "cell_type": "markdown",
   "id": "3d10c6a2",
   "metadata": {},
   "source": [
    "Density-Based Spatial Clustering of Applications with Noise (DBSCAN): DBSCAN is a clustering algorithm that groups \n",
    "together data points that are close together in high-density regions and separates out low-density regions as noise. \n",
    "In the stroke prediction dataset, we can use DBSCAN to identify patients who have similar risk factors for stroke \n",
    "and identify any outliers that may represent rare or unusual cases.\n",
    "\n",
    "\n"
   ]
  },
  {
   "cell_type": "code",
   "execution_count": 72,
   "id": "1c034689",
   "metadata": {
    "scrolled": false
   },
   "outputs": [
    {
     "data": {
      "image/png": "[encoded data removed]",
      "text/plain": [
       "<Figure size 432x288 with 1 Axes>"
      ]
     },
     "metadata": {
      "needs_background": "light"
     },
     "output_type": "display_data"
    },
    {
     "name": "stdout",
     "output_type": "stream",
     "text": [
      "Silhouette score: 0.3288228961613537\n"
     ]
    }
   ],
   "source": [
    "from sklearn.cluster import DBSCAN\n",
    "\n",
    "# Apply DBSCAN clustering\n",
    "dbscan = DBSCAN(eps=0.5, min_samples=5)\n",
    "labelsd = dbscan.fit_predict(X_scaled)\n",
    "\n",
    "# Visualize the clusters\n",
    "plt.scatter(X_scaled[:, 1], X_scaled[:, 2], c=labelsd, cmap=\"viridis\")\n",
    "plt.xlabel(\"BMI\")\n",
    "plt.ylabel(\"Avg Glucose Level\")\n",
    "plt.show()\n",
    "\n",
    "#The color black represents noise points which are not a part of any cluster\n",
    "\n",
    "# Calculate the silhouette score\n",
    "silhouette = silhouette_score(X_scaled, labelsd)\n",
    "print(\"Silhouette score:\", silhouette)"
   ]
  },
  {
   "cell_type": "markdown",
   "id": "3b6f10fa",
   "metadata": {},
   "source": [
    "In this code, we first select the same subset of features as in the K-means clustering example and standardize \n",
    "the features using StandardScaler(). We apply DBSCAN to the standardized features \n",
    "using DBSCAN(eps=0.5, min_samples=5), which groups the data points into clusters based on their density and \n",
    "separates out low-density points as noise. We then visualize the clusters and noise points in a scatter plot, \n",
    "with the color of each point indicating which cluster it belongs to."
   ]
  },
  {
   "cell_type": "markdown",
   "id": "3ca43153",
   "metadata": {},
   "source": [
    "## 6.5 Hierarchical Clustering <a name=\"HRC\"></a>"
   ]
  },
  {
   "cell_type": "markdown",
   "id": "8e7850c6",
   "metadata": {},
   "source": [
    "Hierarchical clustering is a type of clustering algorithm used in unsupervised machine learning, where the aim is to group similar data points together based on their distance or similarity measures. In hierarchical clustering, the data points are first considered as individual clusters, and then combined successively into larger clusters based on their similarities. This process continues until all the data points are in a single cluster, or until a certain stopping criteria is met. Hierarchical clustering can be divided into two types: agglomerative and divisive clustering. In agglomerative clustering, the process starts with individual data points being considered as separate clusters and then merged into larger ones, while divisive clustering starts with all data points in a single cluster and then successively split into smaller ones."
   ]
  },
  {
   "cell_type": "code",
   "execution_count": 73,
   "id": "95be63bc",
   "metadata": {
    "scrolled": false
   },
   "outputs": [
    {
     "name": "stdout",
     "output_type": "stream",
     "text": [
      "Number of clusters: 2, Silhouette score: 0.398\n",
      "Number of clusters: 3, Silhouette score: 0.195\n",
      "Number of clusters: 4, Silhouette score: 0.286\n",
      "Number of clusters: 5, Silhouette score: 0.321\n",
      "Number of clusters: 6, Silhouette score: 0.314\n",
      "Number of clusters: 7, Silhouette score: 0.316\n",
      "Number of clusters: 8, Silhouette score: 0.299\n",
      "Number of clusters: 9, Silhouette score: 0.287\n",
      "Number of clusters: 10, Silhouette score: 0.243\n"
     ]
    },
    {
     "data": {
      "image/png": "[encoded data removed]",
      "text/plain": [
       "<Figure size 432x288 with 1 Axes>"
      ]
     },
     "metadata": {
      "needs_background": "light"
     },
     "output_type": "display_data"
    }
   ],
   "source": [
    "from sklearn.cluster import AgglomerativeClustering\n",
    "\n",
    "# Determine the optimal number of clusters using the silhouette score\n",
    "scores = []\n",
    "for k in range(2, 11):\n",
    "    model = AgglomerativeClustering(n_clusters=k, affinity='euclidean', linkage='complete')\n",
    "    labelsh = model.fit_predict(X_scaled)\n",
    "    score = silhouette_score(X_scaled, labelsh)\n",
    "    scores.append(score)\n",
    "    print(f'Number of clusters: {k}, Silhouette score: {score:.3f}')\n",
    "\n",
    "# Plot the silhouette scores\n",
    "plt.plot(range(2, 11), scores, marker='o')\n",
    "plt.xlabel('Number of clusters')\n",
    "plt.ylabel('Silhouette score')\n",
    "plt.show()"
   ]
  },
  {
   "cell_type": "code",
   "execution_count": 74,
   "id": "6a10b2aa",
   "metadata": {},
   "outputs": [
    {
     "data": {
      "image/png": "[encoded data removed]",
      "text/plain": [
       "<Figure size 1080x360 with 1 Axes>"
      ]
     },
     "metadata": {
      "needs_background": "light"
     },
     "output_type": "display_data"
    }
   ],
   "source": [
    "from scipy.cluster.hierarchy import linkage, dendrogram\n",
    "from scipy.spatial.distance import pdist\n",
    "\n",
    "# Calculate the distance matrix using Euclidean distance\n",
    "dist_matrix = pdist(X_scaled, metric='euclidean')\n",
    "\n",
    "# Perform hierarchical clustering using the complete linkage method and 2 clusters\n",
    "hc = AgglomerativeClustering(n_clusters=2, affinity='euclidean', linkage='complete')\n",
    "hc.fit(X_scaled)\n",
    "\n",
    "# Plot the dendrogram\n",
    "Z = linkage(dist_matrix, method='complete')\n",
    "plt.figure(figsize=(15, 5))\n",
    "dendrogram(Z, truncate_mode='lastp', p=12, leaf_rotation=45, leaf_font_size=15, show_contracted=True)\n",
    "plt.title('Dendrogram')\n",
    "plt.xlabel('Samples')\n",
    "plt.ylabel('Distance')\n",
    "plt.show()"
   ]
  },
  {
   "cell_type": "markdown",
   "id": "d70cca28",
   "metadata": {},
   "source": [
    "# 7.Semi-Supervised Learning <a name=\"Semi_Supervised_Learning\"></a>"
   ]
  },
  {
   "cell_type": "markdown",
   "id": "b624211b",
   "metadata": {},
   "source": [
    "Semi-supervised learning is a type of machine learning where a model is trained on a dataset that contains both labeled and unlabeled data. The model learns from the labeled data, and then uses that knowledge to make predictions on the unlabeled data. Semi-supervised learning is useful in situations where labeled data is scarce or expensive to obtain, but there is an abundance of unlabeled data available."
   ]
  },
  {
   "cell_type": "markdown",
   "id": "c88a8a64",
   "metadata": {},
   "source": [
    "## 7.1 Label Propagation <a name=\"LabelP\"></a>"
   ]
  },
  {
   "cell_type": "markdown",
   "id": "20c9f7a0",
   "metadata": {},
   "source": [
    "Label propagation is a semi-supervised learning algorithm used for classification tasks. It is a graph-based method that works by propagating labels from labeled data points to unlabeled data points based on their similarity or distance."
   ]
  },
  {
   "cell_type": "code",
   "execution_count": 75,
   "id": "6a170826",
   "metadata": {},
   "outputs": [],
   "source": [
    "from sklearn.semi_supervised import LabelPropagation"
   ]
  },
  {
   "cell_type": "code",
   "execution_count": 76,
   "id": "fd1c44a6",
   "metadata": {},
   "outputs": [],
   "source": [
    "n_labeled = int(len(x_train) * 0.1)\n",
    "X_train_labeled = x_train[:n_labeled]\n",
    "y_train_labeled = y_train[:n_labeled]\n",
    "X_train_unlabeled = x_train[n_labeled:]"
   ]
  },
  {
   "cell_type": "markdown",
   "id": "ecba3b18",
   "metadata": {},
   "source": [
    "Here we have removed the lables from 90% of the data. We only use the 10% of the total data as labeled data."
   ]
  },
  {
   "cell_type": "code",
   "execution_count": 77,
   "id": "076ac2a2",
   "metadata": {},
   "outputs": [],
   "source": [
    "lp = LabelPropagation(kernel = 'rbf', gamma = 20)#kernal is set to radial basis function, gamma= its scaling parameter\n",
    "lp.fit(X_train_labeled, y_train_labeled)\n",
    "y_train_pred = lp.predict(X_train_unlabeled)\n",
    "X_train_combined = np.concatenate([X_train_labeled, X_train_unlabeled])\n",
    "y_train_combined = np.concatenate([y_train_labeled, y_train_pred])"
   ]
  },
  {
   "cell_type": "markdown",
   "id": "ea27ff9c",
   "metadata": {},
   "source": [
    "The combined training set is used to train a classifier in a supervised learning setting, where the model can learn from both labeled and unlabeled data to improve its predictions."
   ]
  },
  {
   "cell_type": "markdown",
   "id": "82ce8802",
   "metadata": {},
   "source": [
    "1) Decision tree classifier is instantiated and trained on the combined labeled and pseudo-labeled training data. Then, the trained classifier is used to predict the stroke risk on the test data."
   ]
  },
  {
   "cell_type": "code",
   "execution_count": 78,
   "id": "17571b66",
   "metadata": {},
   "outputs": [
    {
     "name": "stdout",
     "output_type": "stream",
     "text": [
      "Accuracy of classifier 1: 0.899103139013453\n",
      "Confusion matrix of classifier 1:\n"
     ]
    },
    {
     "data": {
      "text/plain": [
       "<AxesSubplot:>"
      ]
     },
     "execution_count": 78,
     "metadata": {},
     "output_type": "execute_result"
    },
    {
     "data": {
      "image/png": "[encoded data removed]",
      "text/plain": [
       "<Figure size 432x288 with 2 Axes>"
      ]
     },
     "metadata": {
      "needs_background": "light"
     },
     "output_type": "display_data"
    }
   ],
   "source": [
    "dtc = DecisionTreeClassifier()\n",
    "dtc.fit(X_train_combined, y_train_combined)\n",
    "y_test_pred = dtc.predict(x_test)\n",
    "accuracy = accuracy_score(y_test, y_test_pred)\n",
    "print('Accuracy of classifier 1:', accuracy)\n",
    "print('Confusion matrix of classifier 1:')\n",
    "cm = confusion_matrix(y_test, y_test_pred)\n",
    "cm_df = pd.DataFrame(cm, index=['No Stroke', 'Stroke'], columns=['No Stroke', 'Stroke'])\n",
    "sns.heatmap(cm_df, annot=True, fmt='d')"
   ]
  },
  {
   "cell_type": "markdown",
   "id": "fabbe450",
   "metadata": {},
   "source": [
    "2) Here we train logistic regression classifier on the combined labeled and pseudo-labeled data (X_train_combined and y_train_combined) and then evaluating its performance on the test data (x_test and y_test)."
   ]
  },
  {
   "cell_type": "code",
   "execution_count": 79,
   "id": "28646af2",
   "metadata": {
    "scrolled": true
   },
   "outputs": [
    {
     "name": "stdout",
     "output_type": "stream",
     "text": [
      "Accuracy of classifier 2: 0.9417040358744395\n",
      "Confusion matrix of classifier 2:\n"
     ]
    },
    {
     "data": {
      "text/plain": [
       "<AxesSubplot:>"
      ]
     },
     "execution_count": 79,
     "metadata": {},
     "output_type": "execute_result"
    },
    {
     "data": {
      "image/png": "[encoded data removed]",
      "text/plain": [
       "<Figure size 432x288 with 2 Axes>"
      ]
     },
     "metadata": {
      "needs_background": "light"
     },
     "output_type": "display_data"
    }
   ],
   "source": [
    "log = LogisticRegression()\n",
    "log.fit(X_train_combined, y_train_combined)\n",
    "y_test_pred = log.predict(x_test)\n",
    "accuracy = accuracy_score(y_test, y_test_pred)\n",
    "print('Accuracy of classifier 2:', accuracy)\n",
    "print('Confusion matrix of classifier 2:')\n",
    "cm = confusion_matrix(y_test, y_test_pred)\n",
    "cm_df = pd.DataFrame(cm, index=['No Stroke', 'Stroke'], columns=['No Stroke', 'Stroke'])\n",
    "sns.heatmap(cm_df, annot=True, fmt='d')"
   ]
  },
  {
   "cell_type": "markdown",
   "id": "7f2a00ad",
   "metadata": {},
   "source": [
    "We can see good accuracy scores from both of the classifiers but we can see that Logistic Regression outperforms the Decision Tree classifier."
   ]
  },
  {
   "cell_type": "markdown",
   "id": "e0304f72",
   "metadata": {},
   "source": [
    "# 8. Comparision with other Studies <a name=\"CWOS\"></a>"
   ]
  },
  {
   "cell_type": "markdown",
   "id": "34214bac",
   "metadata": {},
   "source": [
    "Since we picked our data from kaggle there are alot of other people who have done their analysis unfortunately there are not many notebooks which have done all the Learning Methods as I have performed."
   ]
  },
  {
   "cell_type": "markdown",
   "id": "c6a1f0a2",
   "metadata": {},
   "source": [
    "However, we can compare the results with different a file for example this one:\n",
    "https://www.kaggle.com/code/muqarrishzaib/stroke-risk-predictive-analysis\n",
    "<p>Here we can see that the highest accuracy recieved is by SVM which is 93.93%.</p>\n",
    "<p>Our Random Forest after the Grid Search performs better and gives an accuracy of 94.4</p>\n",
    "<p>We cannot compare further as the analysis found on that notebook ends on the supervised learning. Though if needed you can check other notebooks through this\n",
    "<a href=\"https://www.kaggle.com/datasets/fedesoriano/stroke-prediction-dataset/code?datasetId=1120859&sortBy=relevance\">link.</a></p>\n",
    "\n"
   ]
  }
 ],
 "metadata": {
  "kernelspec": {
   "display_name": "Python 3",
   "language": "python",
   "name": "python3"
  },
  "language_info": {
   "codemirror_mode": {
    "name": "ipython",
    "version": 3
   },
   "file_extension": ".py",
   "mimetype": "text/x-python",
   "name": "python",
   "nbconvert_exporter": "python",
   "pygments_lexer": "ipython3",
   "version": "3.8.8"
  }
 },
 "nbformat": 4,
 "nbformat_minor": 5
}
